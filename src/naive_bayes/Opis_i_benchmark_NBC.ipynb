{
 "cells": [
  {
   "cell_type": "markdown",
   "metadata": {},
   "source": [
    "## Potrzebne import-y"
   ]
  },
  {
   "cell_type": "code",
   "execution_count": 1,
   "metadata": {},
   "outputs": [],
   "source": [
    "from sklearn.model_selection import train_test_split\n",
    "from GaussianNaiveBayesClassifier import GaussianNaiveBayesClassifier\n",
    "from MultinomialNaiveBayesClassifier import MultinomialNaiveBayesClassifier\n",
    "import pandas as pd\n",
    "from sklearn.metrics import confusion_matrix, ConfusionMatrixDisplay"
   ]
  },
  {
   "cell_type": "markdown",
   "metadata": {},
   "source": [
    "# Multinomial Naive Bayes Classifier (MNBC)"
   ]
  },
  {
   "cell_type": "markdown",
   "metadata": {},
   "source": [
    "## Definicja danych"
   ]
  },
  {
   "cell_type": "markdown",
   "metadata": {},
   "source": [
    "Zaimportowaliśmy wszystkie 3 spreparowane przez nas zbiory danych Mushroom - będziemy sprawdzać, który z nich pomoże nam wytrenować najbardziej dokładny model."
   ]
  },
  {
   "cell_type": "code",
   "execution_count": 2,
   "metadata": {},
   "outputs": [],
   "source": [
    "mushroom_data_base_path = \"../../data/mushrooms.csv\"\n",
    "mushroom_data_path = \"../../data_output/dfm.csv\"\n",
    "mushroom_data_pruned_path = \"../../data_output/dfm_pruned.csv\"\n",
    "mushroom_data_vpruned_path = \"../../data_output/dfm_very_pruned.csv\"\n",
    "\n",
    "mbdf = pd.read_csv(mushroom_data_base_path)\n",
    "mdf = pd.read_csv(mushroom_data_path)\n",
    "pmdf = pd.read_csv(mushroom_data_pruned_path)\n",
    "vpmdf = pd.read_csv(mushroom_data_vpruned_path)\n",
    "\n",
    "train_set_mb, test_set_mb = train_test_split(mbdf, test_size=0.95,random_state=15)\n",
    "train_set_m, test_set_m = train_test_split(mdf,test_size=0.95,random_state=15)\n",
    "train_set_pm, test_set_pm = train_test_split(pmdf,test_size=0.95,random_state=15)\n",
    "train_set_vpm, test_set_vpm = train_test_split(vpmdf,test_size=0.95,random_state=15)"
   ]
  },
  {
   "cell_type": "markdown",
   "metadata": {
    "id": "ReQNq3h3yE3C"
   },
   "source": [
    "## Zasada działania MNBC\n",
    "**Multinomial Naive Bayes Classifier (MNBC)** (po polsku Wielomianowy Naiwny Klasyfikator Bayes-owski) to probabilistyczny model uczenia maszynowego, który znajduje zastosowanie głównie w zadaniach klasyfikacyjnych na danych dyskretnych, takich jak klasyfikacja tekstu (np. detekcja spamu). MNBC zakłada, że cechy (atrybuty) mają rozkład multinomialny i są warunkowo niezależne względem etykiety klasy.\n",
    "\n",
    "#### Kroki trenowania i zastosowanie MNBC:\n",
    "1. **Przetwarzanie danych**: \n",
    "   - Zliczanie wystąpień cech (np. słów w dokumentach tekstowych) dla każdej klasy.\n",
    "   - Stosowanie parametru wygładzania ($ \\alpha $) w celu uwzględnienia niewidzianych kombinacji cech i klas.\n",
    "\n",
    "2. **Uczenie (Dopasowanie)**:\n",
    "   - Obliczanie prawdopodobieństw klas ($ P(C) $) jako proporcji próbek należących do każdej klasy.\n",
    "   - Obliczanie prawdopodobieństwa warunkowego cechy $ X_i $ dla klasy $ C $ według wzoru:\n",
    "     $\n",
    "     P(X_i | C) = \\frac{\\text{Count}(X_i, C) + \\alpha}{\\text{Total Count of Traits in } C + \\alpha \\cdot \\text{Number of Traits}}\n",
    "     $\n",
    "\n",
    "3. **Predykcja**:\n",
    "   - Użycie twierdzenia Bayesa do obliczenia prawdopodobieństw a posteriori dla każdej klasy:\n",
    "     $\n",
    "     P(C | X) \\propto P(C) \\cdot \\prod_{i} P(X_i | C)\n",
    "     $\n",
    "   - Przypisanie klasy $ C $, która ma najwyższe prawdopodobieństwo a posteriori.\n",
    "\n",
    "#### Implementacja w Pythonie:\n",
    "Podana klasa **MultinomialNaiveBayesClassifier** implementuje tę logikę:\n",
    "- Metoda `fit` przetwarza dane kategoryczne, przechowując słowniki z licznością cech, licznością klas i prawdopodobieństwami warunkowymi, następnie stosowane jest wygładzanie addytywne ($ \\alpha $), aby zapewnić odporność predykcji nawet dla niewidzianych kombinacji cech i klas.\n",
    "- Metoda `predict` oblicza prawdopodobieństwa a posteriori (przeliczone na skalę logarytminczą) dla wszystkich klas i wybiera najbardziej prawdopodobną.\n",
    "- Metoda `predict_proba` oblicza prawdopodobieństwa a posteriori (--||--) dla wszystkich klas i zwraca słownik `klasa : wartość` \n"
   ]
  },
  {
   "cell_type": "markdown",
   "metadata": {},
   "source": [
    "## Trenowanie modelu na zbiorach"
   ]
  },
  {
   "cell_type": "code",
   "execution_count": 3,
   "metadata": {
    "id": "DeX82hGkx-Vi"
   },
   "outputs": [
    {
     "name": "stderr",
     "output_type": "stream",
     "text": [
      "c:\\Users\\X\\Documents\\College\\CS\\sem3\\Statistic_and_probability\\Naive_Bayes_Project\\src\\naive_bayes\\MultinomialNaiveBayesClassifier.py:209: FutureWarning: Series.__getitem__ treating keys as positions is deprecated. In a future version, integer keys will always be treated as labels (consistent with DataFrame behavior). To access a value by position, use `ser.iloc[pos]`\n",
      "  if className == test[0]:\n",
      "c:\\Users\\X\\Documents\\College\\CS\\sem3\\Statistic_and_probability\\Naive_Bayes_Project\\src\\naive_bayes\\MultinomialNaiveBayesClassifier.py:216: FutureWarning: Series.__getitem__ treating keys as positions is deprecated. In a future version, integer keys will always be treated as labels (consistent with DataFrame behavior). To access a value by position, use `ser.iloc[pos]`\n",
      "  if newClassName == test[0]:\n"
     ]
    },
    {
     "name": "stdout",
     "output_type": "stream",
     "text": [
      "0.9113300492610837\n",
      "0.9113300492610837\n",
      "0.9532019704433498\n",
      "0.9458128078817734\n"
     ]
    }
   ],
   "source": [
    "mnbc = MultinomialNaiveBayesClassifier()\n",
    "mnbc_m = MultinomialNaiveBayesClassifier()\n",
    "mnbc_pm = MultinomialNaiveBayesClassifier()\n",
    "mnbc_vpm = MultinomialNaiveBayesClassifier()\n",
    "\n",
    "mnbc.fit(train_set_mb)\n",
    "print(mnbc.test_accuracy(train_set_mb))\n",
    "\n",
    "mnbc_m.fit(train_set_m)\n",
    "print(mnbc_m.test_accuracy(train_set_m))\n",
    "\n",
    "mnbc_pm.fit(train_set_pm)\n",
    "print(mnbc_pm.test_accuracy(train_set_pm))\n",
    "\n",
    "mnbc_vpm.fit(train_set_vpm)\n",
    "print(mnbc_vpm.test_accuracy(train_set_vpm))"
   ]
  },
  {
   "cell_type": "markdown",
   "metadata": {
    "id": "jfHkrwNRz0Uo"
   },
   "source": [
    "## Weryfikacja poprawności modelu"
   ]
  },
  {
   "cell_type": "markdown",
   "metadata": {
    "id": "rQBmZzNM2c8z"
   },
   "source": [
    "### Sprawdzenie dokładności modelu\n",
    "\n",
    "Dokładność modelu (accuracy) jest jednym z podstawowych wskaźników skuteczności klasyfikatora. Obliczana jest jako stosunek liczby poprawnie sklasyfikowanych przypadków do całkowitej liczby przypadków w zestawie testowym. \n",
    "\n",
    "W poniższym przykładzie używamy zestawów testowych, które zostały wyodrębnione z pełnych zbiorów danych w trakcie ich podziałów na dane treningowe i testowe.\n"
   ]
  },
  {
   "cell_type": "code",
   "execution_count": 4,
   "metadata": {
    "id": "5Y5UIA7s2i_Y"
   },
   "outputs": [
    {
     "name": "stdout",
     "output_type": "stream",
     "text": [
      "Dokładność modelu oryginalnego na zbiorze testowym: 90.72%\n",
      "Dokładność modelu bazowego na zbiorze testowym: 90.72%\n",
      "Dokładność modelu pruned na zbiorze testowym: 95.75%\n",
      "Dokładność modelu very_pruned na zbiorze testowym: 93.13%\n"
     ]
    }
   ],
   "source": [
    "# Sprawdzenie dokładności modelów w %\n",
    "\n",
    "accuracy = mnbc_m.test_accuracy(test_set_m)\n",
    "print(f\"Dokładność modelu oryginalnego na zbiorze testowym: {accuracy * 100:.2f}%\")\n",
    "\n",
    "accuracy = mnbc_m.test_accuracy(test_set_m)\n",
    "print(f\"Dokładność modelu bazowego na zbiorze testowym: {accuracy * 100:.2f}%\")\n",
    "\n",
    "accuracy = mnbc_pm.test_accuracy(test_set_pm)\n",
    "print(f\"Dokładność modelu pruned na zbiorze testowym: {accuracy * 100:.2f}%\")\n",
    "\n",
    "accuracy = mnbc_vpm.test_accuracy(test_set_vpm)\n",
    "print(f\"Dokładność modelu very_pruned na zbiorze testowym: {accuracy * 100:.2f}%\")"
   ]
  },
  {
   "cell_type": "markdown",
   "metadata": {
    "id": "haBiz9da2W7D"
   },
   "source": [
    "### Sprawdzenie pod kątem overfittingu\n",
    "\n",
    "Model może osiągać wysoką skuteczność na danych treningowych, ale być nieskuteczny na danych testowych, co wskazuje na overfitting. Aby to sprawdzić, porównujemy dokładność na danych treningowych i testowych.\n",
    "\n",
    "Jeżeli dokładności na zbiorze treningowym i testowym są zbliżone, oznacza to, że nie wystąpiło nadmierne dopasowanie. Jeśli jednak wartość zbioru treningowego jest dużo większa niż testowego, można podejrzewać overfitting."
   ]
  },
  {
   "cell_type": "code",
   "execution_count": 5,
   "metadata": {
    "id": "ULQnzyTp2Ut8"
   },
   "outputs": [
    {
     "name": "stdout",
     "output_type": "stream",
     "text": [
      "Dokładność modelu na zbiorze treningowym: 91.13%\n",
      "Dokładność modelu na zbiorze testowym: 90.49%\n",
      "Dokładność modelu na zbiorze treningowym: 91.13%\n",
      "Dokładność modelu na zbiorze testowym: 90.72%\n",
      "Dokładność modelu na zbiorze treningowym: 95.32%\n",
      "Dokładność modelu na zbiorze testowym: 95.75%\n",
      "Dokładność modelu na zbiorze treningowym: 94.58%\n",
      "Dokładność modelu na zbiorze testowym: 93.13%\n"
     ]
    }
   ],
   "source": [
    "# Porównanie dokładności na zbiorze treningowym i testowym dla wykrycia nadmiernego dopasowania\n",
    "train_accuracy = mnbc.test_accuracy(train_set_mb)\n",
    "test_accuracy = mnbc.test_accuracy(test_set_mb)\n",
    "\n",
    "print(f\"Dokładność modelu na zbiorze treningowym: {train_accuracy * 100:.2f}%\")\n",
    "print(f\"Dokładność modelu na zbiorze testowym: {test_accuracy * 100:.2f}%\")\n",
    "\n",
    "train_accuracy = mnbc_m.test_accuracy(train_set_m)\n",
    "test_accuracy = mnbc_m.test_accuracy(test_set_m)\n",
    "\n",
    "print(f\"Dokładność modelu na zbiorze treningowym: {train_accuracy * 100:.2f}%\")\n",
    "print(f\"Dokładność modelu na zbiorze testowym: {test_accuracy * 100:.2f}%\")\n",
    "\n",
    "train_accuracy = mnbc_pm.test_accuracy(train_set_pm)\n",
    "test_accuracy = mnbc_pm.test_accuracy(test_set_pm)\n",
    "\n",
    "print(f\"Dokładność modelu na zbiorze treningowym: {train_accuracy * 100:.2f}%\")\n",
    "print(f\"Dokładność modelu na zbiorze testowym: {test_accuracy * 100:.2f}%\")\n",
    "\n",
    "\n",
    "train_accuracy = mnbc_vpm.test_accuracy(train_set_vpm)\n",
    "test_accuracy = mnbc_vpm.test_accuracy(test_set_vpm)\n",
    "\n",
    "print(f\"Dokładność modelu na zbiorze treningowym: {train_accuracy * 100:.2f}%\")\n",
    "print(f\"Dokładność modelu na zbiorze testowym: {test_accuracy * 100:.2f}%\")"
   ]
  },
  {
   "cell_type": "markdown",
   "metadata": {},
   "source": [
    "Powyższe analizy doprowadzają nas do wniosku, że z rozpoznawaniem danych najlepiej radzi sobie model wytrenowany na danych, w których usunęliśmy najsilniej skorelowane ze sobą dane. Dzieje się tak prawdopodobnie ze względu na założenie przyjęte w metodzie Naive Bayes, które zakłada, że wszystkie cechy są od siebie niezależne. Usunięcie silnie skorelowanych zmiennych zmniejsza ryzyko naruszenia tego założenia, co poprawia dokładność klasyfikacji modelu."
   ]
  },
  {
   "cell_type": "code",
   "execution_count": 6,
   "metadata": {},
   "outputs": [],
   "source": [
    "mnbc = mnbc_pm\n",
    "testSet = test_set_pm\n",
    "trainSet = train_set_pm"
   ]
  },
  {
   "cell_type": "markdown",
   "metadata": {
    "id": "b36zmPgi2jn6"
   },
   "source": [
    "### Macierz konfuzji (Confusion Matrix)\n",
    "\n",
    "Macierz konfuzji przedstawia szczegółowy rozkład przewidywań modelu względem rzeczywistych wartości klas. Daje ona możliwość analizy liczby prawidłowych i błędnych klasyfikacji dla każdej klasy."
   ]
  },
  {
   "cell_type": "code",
   "execution_count": 7,
   "metadata": {
    "id": "2Dod6A-h2olh"
   },
   "outputs": [
    {
     "data": {
      "text/plain": [
       "<sklearn.metrics._plot.confusion_matrix.ConfusionMatrixDisplay at 0x29a425b6360>"
      ]
     },
     "execution_count": 7,
     "metadata": {},
     "output_type": "execute_result"
    },
    {
     "data": {
      "image/png": "[encoded data removed]",
      "text/plain": [
       "<Figure size 640x480 with 2 Axes>"
      ]
     },
     "metadata": {},
     "output_type": "display_data"
    }
   ],
   "source": [
    "from sklearn.metrics import confusion_matrix, ConfusionMatrixDisplay\n",
    "\n",
    "y_true = testSet.iloc[:, 0]  # Rzeczywiste klasy (pierwsza kolumna)\n",
    "y_pred = [mnbc.predict(row[1:])[0] for _, row in testSet.iterrows()]  # Przewidywane klasy\n",
    "\n",
    "# Obliczenie macierzy konfuzji\n",
    "cm = confusion_matrix(y_true, y_pred, labels=list(mnbc.classes))\n",
    "\n",
    "# Wizualizacja macierzy konfuzji\n",
    "disp = ConfusionMatrixDisplay(confusion_matrix=cm, display_labels=list(mnbc.classes))\n",
    "disp.plot(cmap=\"Blues\")\n"
   ]
  },
  {
   "cell_type": "markdown",
   "metadata": {},
   "source": [
    "### Analiza błędów klasyfikacji\n",
    "\n",
    "Analiza błędów klasyfikacji pozwala zrozumieć, które klasy są najczęściej mylone przez model. W przypadku znaczących błędów klasyfikacji można rozważyć modyfikację danych treningowych lub użycie innych cech w modelu.\n"
   ]
  },
  {
   "cell_type": "code",
   "execution_count": 8,
   "metadata": {},
   "outputs": [
    {
     "name": "stdout",
     "output_type": "stream",
     "text": [
      "Błędnie sklasyfikowane przypadki:\n",
      "     class cap-shape cap-surface cap-color odor gill-spacing gill-size  \\\n",
      "4814     p         k           f         n    n            c         n   \n",
      "3868     p         x           f         w    c            w         n   \n",
      "3738     p         x           f         w    c            w         n   \n",
      "3444     p         x           s         w    c            c         n   \n",
      "5215     p         f           y         p    n            c         b   \n",
      "...    ...       ...         ...       ...  ...          ...       ...   \n",
      "3037     p         x           f         g    c            c         n   \n",
      "5617     p         b           s         w    n            c         b   \n",
      "927      p         x           y         n    p            c         n   \n",
      "950      p         x           y         w    p            c         n   \n",
      "3754     p         x           f         w    c            c         n   \n",
      "\n",
      "     gill-color stalk-shape ring-number ring-type spore-print-color  \\\n",
      "4814          w           e           o         e                 w   \n",
      "3868          u           e           o         p                 k   \n",
      "3738          p           e           o         p                 k   \n",
      "3444          u           e           o         p                 n   \n",
      "5215          w           e           t         p                 r   \n",
      "...         ...         ...         ...       ...               ...   \n",
      "3037          p           e           o         p                 n   \n",
      "5617          g           e           t         p                 r   \n",
      "927           w           e           o         p                 k   \n",
      "950           w           e           o         p                 n   \n",
      "3754          u           e           o         p                 n   \n",
      "\n",
      "     population habitat  \n",
      "4814          v       d  \n",
      "3868          v       d  \n",
      "3738          s       d  \n",
      "3444          s       d  \n",
      "5215          v       m  \n",
      "...         ...     ...  \n",
      "3037          s       d  \n",
      "5617          v       g  \n",
      "927           s       u  \n",
      "950           s       u  \n",
      "3754          v       d  \n",
      "\n",
      "[328 rows x 14 columns]\n"
     ]
    }
   ],
   "source": [
    "misclassified = testSet[y_true != y_pred]\n",
    "print(\"Błędnie sklasyfikowane przypadki:\")\n",
    "print(misclassified)\n"
   ]
  },
  {
   "cell_type": "markdown",
   "metadata": {},
   "source": [
    "### Wskaźniki jakości klasyfikacji\n",
    "\n",
    "Dodatkowymi wskaźnikami jakości klasyfikacji są:\n",
    "- **Precision**: dokładność przewidywań dla danej klasy,\n",
    "- **Recall**: zdolność modelu do prawidłowego identyfikowania przypadków danej klasy,\n",
    "- **F1-score**: harmoniczna średnia precision i recall.\n"
   ]
  },
  {
   "cell_type": "code",
   "execution_count": 9,
   "metadata": {},
   "outputs": [
    {
     "name": "stdout",
     "output_type": "stream",
     "text": [
      "Raport jakości klasyfikacji:\n",
      "\n",
      "              precision    recall  f1-score   support\n",
      "\n",
      "           e       0.92      1.00      0.96      3999\n",
      "           p       1.00      0.91      0.95      3719\n",
      "\n",
      "    accuracy                           0.96      7718\n",
      "   macro avg       0.96      0.96      0.96      7718\n",
      "weighted avg       0.96      0.96      0.96      7718\n",
      "\n"
     ]
    }
   ],
   "source": [
    "from sklearn.metrics import classification_report\n",
    "\n",
    "# Raport z wskaźnikami jakości klasyfikacji\n",
    "report = classification_report(y_true, y_pred, target_names=list(mnbc.classes))\n",
    "print(\"Raport jakości klasyfikacji:\\n\")\n",
    "print(report)\n"
   ]
  },
  {
   "cell_type": "markdown",
   "metadata": {},
   "source": [
    "### ROC - AUC\n",
    "\n",
    "ROC (Receiver Operating Characteristic) to wykres przedstawiający zdolność modelu do klasyfikacji na podstawie różnych progów decyzyjnych. AUC (Area Under the Curve) to pole pod krzywą ROC, które pozwala ocenić jakość modelu – im bliżej 1, tym lepszy model."
   ]
  },
  {
   "cell_type": "code",
   "execution_count": 10,
   "metadata": {},
   "outputs": [
    {
     "data": {
      "image/png": "[encoded data removed]",
      "text/plain": [
       "<Figure size 800x600 with 1 Axes>"
      ]
     },
     "metadata": {},
     "output_type": "display_data"
    },
    {
     "name": "stdout",
     "output_type": "stream",
     "text": [
      "ROC-AUC Score: 0.995\n"
     ]
    }
   ],
   "source": [
    "# Generowane\n",
    "from sklearn.metrics import roc_curve, roc_auc_score\n",
    "import matplotlib.pyplot as plt\n",
    "\n",
    "def plot_roc_auc(mnbc, testSet):\n",
    "    y_true = testSet.iloc[:, 0]  # Pierwsza kolumna (klasy prawdziwe)\n",
    "    y_scores = []\n",
    "\n",
    "    for _, row in testSet.iterrows():\n",
    "        proba = mnbc.predict_proba(row[1:])  # Prawdopodobieństwa dla każdej klasy\n",
    "        y_scores.append(proba['e'] if 'e' in proba else 0)  # Przykład: klasyfikacja 'edible' vs 'poisonous'\n",
    "\n",
    "    # Oblicz ROC i AUC\n",
    "    fpr, tpr, _ = roc_curve(y_true.map({'e': 1, 'p': 0}), y_scores)  # Przyjęto 'e' jako pozytywna klasa\n",
    "    auc_score = roc_auc_score(y_true.map({'e': 1, 'p': 0}), y_scores)\n",
    "\n",
    "    # Wykres ROC\n",
    "    plt.figure(figsize=(8, 6))\n",
    "    plt.plot(fpr, tpr, label=f'AUC = {auc_score:.3f}')\n",
    "    plt.plot([0, 1], [0, 1], 'k--', label='Losowa klasyfikacja')\n",
    "    plt.xlabel('False Positive Rate')\n",
    "    plt.ylabel('True Positive Rate')\n",
    "    plt.title('ROC Curve')\n",
    "    plt.legend(loc='lower right')\n",
    "    plt.grid()\n",
    "    plt.show()\n",
    "\n",
    "    print(f\"ROC-AUC Score: {auc_score:.3f}\")\n",
    "\n",
    "# Wywołanie funkcji\n",
    "plot_roc_auc(mnbc, testSet)\n"
   ]
  },
  {
   "cell_type": "markdown",
   "metadata": {},
   "source": [
    "### k-Fold Cross Validation\n",
    "\n",
    "k-Fold Cross Validation pozwala na ocenę wydajności modelu poprzez podzielenie danych na k równych części (foldów). Model jest trenowany na k-1 częściach i testowany na pozostałej części, a wyniki są uśredniane."
   ]
  },
  {
   "cell_type": "code",
   "execution_count": 11,
   "metadata": {},
   "outputs": [
    {
     "name": "stderr",
     "output_type": "stream",
     "text": [
      "c:\\Users\\X\\Documents\\College\\CS\\sem3\\Statistic_and_probability\\Naive_Bayes_Project\\src\\naive_bayes\\MultinomialNaiveBayesClassifier.py:209: FutureWarning: Series.__getitem__ treating keys as positions is deprecated. In a future version, integer keys will always be treated as labels (consistent with DataFrame behavior). To access a value by position, use `ser.iloc[pos]`\n",
      "  if className == test[0]:\n",
      "c:\\Users\\X\\Documents\\College\\CS\\sem3\\Statistic_and_probability\\Naive_Bayes_Project\\src\\naive_bayes\\MultinomialNaiveBayesClassifier.py:216: FutureWarning: Series.__getitem__ treating keys as positions is deprecated. In a future version, integer keys will always be treated as labels (consistent with DataFrame behavior). To access a value by position, use `ser.iloc[pos]`\n",
      "  if newClassName == test[0]:\n"
     ]
    },
    {
     "name": "stdout",
     "output_type": "stream",
     "text": [
      "Średnia dokładność po 5-Fold Cross Validation: 0.969\n"
     ]
    },
    {
     "data": {
      "text/plain": [
       "[0.9753886010362695,\n",
       " 0.9676165803108808,\n",
       " 0.9669689119170984,\n",
       " 0.9675955930006481,\n",
       " 0.9650032404407]"
      ]
     },
     "execution_count": 11,
     "metadata": {},
     "output_type": "execute_result"
    }
   ],
   "source": [
    "from sklearn.model_selection import KFold\n",
    "import numpy as np\n",
    "\n",
    "def k_fold_cross_validation(mnbc, mushroomDataFrame, k=5):\n",
    "    kf = KFold(n_splits=k, shuffle=True, random_state=42)\n",
    "    accuracies = []\n",
    "\n",
    "    for train_index, test_index in kf.split(mushroomDataFrame):\n",
    "        trainSet = mushroomDataFrame.iloc[train_index]\n",
    "        testSet = mushroomDataFrame.iloc[test_index]\n",
    "\n",
    "        mnbc.fit(trainSet)  # Trenuj model na danych treningowych\n",
    "        accuracy = mnbc.test_accuracy(testSet)  # Sprawdź dokładność na danych testowych\n",
    "        accuracies.append(accuracy)\n",
    "\n",
    "    avg_accuracy = np.mean(accuracies)\n",
    "    print(f\"Średnia dokładność po {k}-Fold Cross Validation: {avg_accuracy:.3f}\")\n",
    "    return accuracies\n",
    "\n",
    "# Wywołanie funkcji\n",
    "k_fold_cross_validation(mnbc, testSet, k=5)\n"
   ]
  },
  {
   "cell_type": "markdown",
   "metadata": {},
   "source": [
    "# Gaussian Naive Bayes Classifier (GNBC)"
   ]
  },
  {
   "cell_type": "markdown",
   "metadata": {},
   "source": [
    "## Definicja danych"
   ]
  },
  {
   "cell_type": "code",
   "execution_count": 12,
   "metadata": {},
   "outputs": [],
   "source": [
    "dataPath = \"../../data_output/dfi_pruned.csv\"\n",
    "irisDataFrame = pd.read_csv(dataPath)\n",
    "trainSet, testSet = train_test_split(irisDataFrame,test_size=0.7,random_state=15)"
   ]
  },
  {
   "cell_type": "markdown",
   "metadata": {},
   "source": [
    "## Zasada działania GNBC\n",
    "**Gaussian Naive Bayes Classifier (GNBC)** (po polsku Gauss-owski [oparty o rozkład normalny] Naiwny Klasyfikator Bayes-owski) to kolejna odmiana modelu Naive Bayes, wykorzystywana dla danych ciągłych. GNBC zakłada, że cechy mają rozkład normalny (Gaussa) w obrębie każdej klasy. Jest to odpowiednie dla zadań takich jak diagnostyka medyczna, gdzie dane wejściowe mogą reprezentować ciągłe pomiary.\n",
    "\n",
    "#### Zasada działania i użycie GNBC:\n",
    "1. **Przetwarzanie danych**:\n",
    "   - Dla każdej cechy $X_i$ w każdej klasie $C$, szacuje się parametry rozkładu normalnego:\n",
    "     - Średnia $( \\mu )$: Średnia wartości cech w obrębie klasy.\n",
    "     - Wariancja $(\\sigma^2)$: Zmienność wartości cech w obrębie klasy.\n",
    "\n",
    "2. **Uczenie (Dopasowanie)**:\n",
    "   - Obliczanie funkcji gęstości prawdopodobieństwa (PDF) Gaussa dla każdej cechy:\n",
    "     $\n",
    "     P(X_i | C) = \\frac{1}{\\sqrt{2 \\pi \\sigma^2}} \\exp\\left(-\\frac{(X_i - \\mu)^2}{2 \\sigma^2}\\right)\n",
    "     $\n",
    "   - Obliczanie prawdopodobieństw klas $ P(C) $.\n",
    "\n",
    "3. **Predykcja**:\n",
    "   - Użycie twierdzenia Bayesa do obliczenia prawdopodobieństw a posteriori dla każdej klasy:\n",
    "     $\n",
    "     P(C | X) \\propto P(C) \\cdot \\prod_{i} P(X_i | C)\n",
    "     $\n",
    "   - Przypisanie klasy $ C $, która ma najwyższe prawdopodobieństwo a posteriori.\n",
    "\n",
    "#### Implementacja w Pythonie:\n",
    "Klasa **NormalDistribution** implementuje funkcję gęstości prawdopodobieństwa dla GNBC:\n",
    "- Metoda `fit_values` oblicza średnią i wariancję cechy.\n",
    "- Metoda `get_value` oblicza wartość PDF Gaussa w określonym punkcie $x$.\n",
    "- Ta klasa jest użyta jako podstawowy element GNBC, gdzie każda kombinacja cechy i klasy ma własną instancję `NormalDistribution`.\n",
    "\n",
    "\n",
    "Zaimplementowana klasa **GaussianNaiveBayesClassifier** implementuje:\n",
    "- Metoda `fit` przetwarza dane treningowe, obliczając liczności klas i cech oraz parametry rozkładu normalnego dla danych ciągłych, a także tworząc prawdopodobieństwa warunkowe dla danych kategorycznych. Dzięki zastosowaniu wygładzania addytywnego ($ \\alpha $) model zapewnia odporność predykcji na niewidziane wcześniej kombinacje cech i klas.\n",
    "- Metoda `predict` oblicza prawdopodobieństwa a posteriori (przeliczone na skalę logarytminczą) dla wszystkich klas i wybiera najbardziej prawdopodobną.\n",
    "- Metoda `predict_proba` oblicza prawdopodobieństwa a posteriori (--||--) dla wszystkich klas i zwraca słownik `klasa : wartość` \n"
   ]
  },
  {
   "cell_type": "markdown",
   "metadata": {},
   "source": [
    "### Trenowanie modelu"
   ]
  },
  {
   "cell_type": "code",
   "execution_count": 13,
   "metadata": {},
   "outputs": [],
   "source": [
    "gnbc = GaussianNaiveBayesClassifier()\n",
    "gnbc.fit(trainSet)"
   ]
  },
  {
   "cell_type": "markdown",
   "metadata": {},
   "source": [
    "## Weryfikacja poprawności modelu"
   ]
  },
  {
   "cell_type": "markdown",
   "metadata": {},
   "source": [
    "### Sprawdzenie dokładności modelu\n",
    "\n",
    "Dokładność modelu (accuracy) jest jednym z podstawowych wskaźników skuteczności klasyfikatora. Obliczana jest jako stosunek liczby poprawnie sklasyfikowanych przypadków do całkowitej liczby przypadków w zestawie testowym. \n",
    "\n",
    "W poniższym przykładzie używamy zestawu testowego, który został wyodrębniony z pełnego zbioru danych w trakcie jego podziału na dane treningowe i testowe.\n"
   ]
  },
  {
   "cell_type": "code",
   "execution_count": 14,
   "metadata": {},
   "outputs": [
    {
     "name": "stdout",
     "output_type": "stream",
     "text": [
      "Dokładność modelu na zbiorze testowym: 71.43%\n"
     ]
    },
    {
     "name": "stderr",
     "output_type": "stream",
     "text": [
      "c:\\Users\\X\\Documents\\College\\CS\\sem3\\Statistic_and_probability\\Naive_Bayes_Project\\src\\naive_bayes\\GaussianNaiveBayesClassifier.py:177: FutureWarning: Series.__getitem__ treating keys as positions is deprecated. In a future version, integer keys will always be treated as labels (consistent with DataFrame behavior). To access a value by position, use `ser.iloc[pos]`\n",
      "  if className == test[len(test)-1]:\n"
     ]
    }
   ],
   "source": [
    "# Sprawdzenie dokładności modelu\n",
    "accuracy = gnbc.test_accuracy(testSet)\n",
    "print(f\"Dokładność modelu na zbiorze testowym: {accuracy * 100:.2f}%\")"
   ]
  },
  {
   "cell_type": "markdown",
   "metadata": {},
   "source": [
    "### Sprawdzenie pod kątem overfittingu\n",
    "\n",
    "Model może osiągać wysoką skuteczność na danych treningowych, ale być nieskuteczny na danych testowych, co wskazuje na overfitting. Aby to sprawdzić, porównujemy dokładność na danych treningowych i testowych.\n",
    "\n",
    "Jeśli dokładność na danych treningowych jest znacznie wyższa niż na danych testowych, może to sugerować problem z nadmiernym dopasowaniem modelu do danych treningowych.\n"
   ]
  },
  {
   "cell_type": "code",
   "execution_count": 15,
   "metadata": {},
   "outputs": [
    {
     "name": "stdout",
     "output_type": "stream",
     "text": [
      "Dokładność modelu na zbiorze treningowym: 80.00%\n",
      "Dokładność modelu na zbiorze testowym: 71.43%\n"
     ]
    }
   ],
   "source": [
    "# Porównanie dokładności na zbiorze treningowym i testowym\n",
    "train_accuracy = gnbc.test_accuracy(trainSet)\n",
    "test_accuracy = gnbc.test_accuracy(testSet)\n",
    "\n",
    "print(f\"Dokładność modelu na zbiorze treningowym: {train_accuracy * 100:.2f}%\")\n",
    "print(f\"Dokładność modelu na zbiorze testowym: {test_accuracy * 100:.2f}%\")\n"
   ]
  },
  {
   "cell_type": "markdown",
   "metadata": {},
   "source": [
    "### Macierz konfuzji (Confusion Matrix)\n",
    "\n",
    "Macierz konfuzji przedstawia szczegółowy rozkład przewidywań modelu względem rzeczywistych wartości klas. Daje ona możliwość analizy liczby prawidłowych i błędnych klasyfikacji dla każdej klasy.\n"
   ]
  },
  {
   "cell_type": "code",
   "execution_count": 16,
   "metadata": {},
   "outputs": [],
   "source": [
    "y_true = testSet.iloc[:, len(testSet.columns)-1]  # Rzeczywiste klasy (pierwsza kolumna)\n",
    "y_pred = [gnbc.predict(row[:4]) for _, row in testSet.iterrows()]  # Przewidywane klasy"
   ]
  },
  {
   "cell_type": "code",
   "execution_count": 17,
   "metadata": {},
   "outputs": [
    {
     "data": {
      "text/plain": [
       "<sklearn.metrics._plot.confusion_matrix.ConfusionMatrixDisplay at 0x29a471ebd40>"
      ]
     },
     "execution_count": 17,
     "metadata": {},
     "output_type": "execute_result"
    },
    {
     "data": {
      "image/png": "[encoded data removed]",
      "text/plain": [
       "<Figure size 640x480 with 2 Axes>"
      ]
     },
     "metadata": {},
     "output_type": "display_data"
    }
   ],
   "source": [
    "from sklearn.metrics import confusion_matrix, ConfusionMatrixDisplay\n",
    "\n",
    "# Pobranie przewidywań modelu na zbiorze testowym\n",
    "y_true = testSet.iloc[:, len(testSet.columns)-1]  # Rzeczywiste klasy\n",
    "y_pred = [gnbc.predict(row[:4])[0] for _, row in testSet.iterrows()]  # Przewidywane klasy\n",
    "\n",
    "# Obliczenie macierzy konfuzji\n",
    "cm = confusion_matrix(y_true, y_pred, labels=list(gnbc.classes))\n",
    "\n",
    "# Macierz konfuzji\n",
    "disp = ConfusionMatrixDisplay(confusion_matrix=cm, display_labels=list(gnbc.classes))\n",
    "disp.plot(cmap=\"Blues\")"
   ]
  },
  {
   "cell_type": "markdown",
   "metadata": {},
   "source": [
    "### Analiza błędów klasyfikacji\n",
    "\n",
    "Analiza błędów klasyfikacji pozwala zrozumieć, które klasy są najczęściej mylone przez model. W przypadku znaczących błędów klasyfikacji można rozważyć modyfikację danych treningowych lub użycie innych cech w modelu.\n"
   ]
  },
  {
   "cell_type": "code",
   "execution_count": 18,
   "metadata": {},
   "outputs": [
    {
     "name": "stdout",
     "output_type": "stream",
     "text": [
      "Błędnie sklasyfikowane przypadki:\n",
      "{'versicolor': np.float64(0.09468212869325049), 'setosa': np.float64(0.8306579878676766), 'virginica': np.float64(0.07465988343907293)}\n",
      "sepal_length          4.9\n",
      "sepal_width           2.5\n",
      "petal_width           1.7\n",
      "species         virginica\n",
      "Name: 106, dtype: object\n",
      "{'versicolor': np.float64(0.34247658521313845), 'setosa': np.float64(4.8871905777966796e-08), 'virginica': np.float64(0.6575233659149557)}\n",
      "sepal_length           6.7\n",
      "sepal_width            3.0\n",
      "petal_width            1.7\n",
      "species         versicolor\n",
      "Name: 77, dtype: object\n"
     ]
    }
   ],
   "source": [
    "# Identyfikacja błędnie sklasyfikowanych przypadków\n",
    "misclassified = testSet[y_true != y_pred]\n",
    "print(\"Błędnie sklasyfikowane przypadki:\")\n",
    "y_misclassified = [gnbc.predict_proba(row[:len(misclassified.columns)-1]) for _, row in misclassified.iterrows()]  # Dla sprawdzenia błędów w przewidywaniu\n",
    "for index,y_m in enumerate(y_misclassified):\n",
    "    print(f\"{y_m}\\n{misclassified.iloc[index]}\") # Porównanie wartości, jak blisko były wartość prawdziwa z przewidzianą"
   ]
  },
  {
   "cell_type": "markdown",
   "metadata": {},
   "source": [
    "### Wskaźniki jakości klasyfikacji\n",
    "\n",
    "Dodatkowymi wskaźnikami jakości klasyfikacji są:\n",
    "- **Precision**: dokładność przewidywań dla danej klasy,\n",
    "- **Recall**: zdolność modelu do prawidłowego identyfikowania przypadków danej klasy,\n",
    "- **F1-score**: harmoniczna średnia precision i recall.\n",
    "\n",
    "W tej sekcji obliczane są te wskaźniki dla każdej klasy.\n"
   ]
  },
  {
   "cell_type": "code",
   "execution_count": 19,
   "metadata": {},
   "outputs": [
    {
     "name": "stdout",
     "output_type": "stream",
     "text": [
      "Raport jakości klasyfikacji:\n",
      "\n",
      "              precision    recall  f1-score   support\n",
      "\n",
      "  versicolor       1.00      1.00      1.00        32\n",
      "      setosa       0.97      0.97      0.97        37\n",
      "   virginica       0.97      0.97      0.97        36\n",
      "\n",
      "    accuracy                           0.98       105\n",
      "   macro avg       0.98      0.98      0.98       105\n",
      "weighted avg       0.98      0.98      0.98       105\n",
      "\n"
     ]
    }
   ],
   "source": [
    "from sklearn.metrics import classification_report\n",
    "\n",
    "report = classification_report(y_true, y_pred, target_names=list(gnbc.classes))\n",
    "print(\"Raport jakości klasyfikacji:\\n\")\n",
    "print(report)\n"
   ]
  },
  {
   "cell_type": "markdown",
   "metadata": {},
   "source": [
    "### ROC - AUC dla Iris Dataset\n",
    "\n",
    "ROC (Receiver Operating Characteristic) to wykres przedstawiający zdolność modelu do klasyfikacji na podstawie różnych progów decyzyjnych. AUC (Area Under the Curve) to pole pod krzywą ROC, które pozwala ocenić jakość modelu – im bliżej 1, tym lepszy model.\n",
    "\n",
    "W przypadku Iris dataset klasyfikujemy trzy gatunki kwiatów: `setosa`, `versicolor` i `virginica`. Aby zastosować ROC-AUC, zredukujemy problem do klasyfikacji binarnej, np. `versicolor` (1) vs. inne gatunki (0).\n"
   ]
  },
  {
   "cell_type": "code",
   "execution_count": 20,
   "metadata": {},
   "outputs": [
    {
     "data": {
      "image/png": "[encoded data removed]",
      "text/plain": [
       "<Figure size 800x600 with 1 Axes>"
      ]
     },
     "metadata": {},
     "output_type": "display_data"
    },
    {
     "name": "stdout",
     "output_type": "stream",
     "text": [
      "AUC dla każdej klasy:\n",
      "setosa: 0.947\n",
      "versicolor: 0.726\n",
      "virginica: 0.883\n"
     ]
    }
   ],
   "source": [
    "# Generowane\n",
    "from sklearn.metrics import roc_curve, roc_auc_score\n",
    "import matplotlib.pyplot as plt\n",
    "from sklearn.preprocessing import label_binarize\n",
    "\n",
    "# Przygotowanie danych\n",
    "iris_binary = irisDataFrame.copy()\n",
    "iris_binary['binary_species'] = iris_binary['species'].apply(lambda x: 1 if x == 'versicolor' else 0)\n",
    "\n",
    "# Funkcja do rysowania ROC dla wielu klas\n",
    "def plot_roc_auc_multiclass(mnbc, testSet):\n",
    "    # Przekształcenie etykiet na format binarny (one-hot encoding)\n",
    "    y_true = label_binarize(testSet['species'], classes=['setosa', 'versicolor', 'virginica'])\n",
    "    \n",
    "    y_scores = []\n",
    "    for _, row in testSet.iterrows():\n",
    "        proba = mnbc.predict_proba(row[:-2])  # Prawdopodobieństwa dla każdej klasy\n",
    "        y_scores.append([proba.get('setosa', 0), proba.get('versicolor', 0), proba.get('virginica', 0)])\n",
    "\n",
    "    plt.figure(figsize=(8, 6))\n",
    "    auc_scores = []\n",
    "    for i, class_name in enumerate(['setosa', 'versicolor', 'virginica']):\n",
    "        fpr, tpr, _ = roc_curve(y_true[:, i], [score[i] for score in y_scores])\n",
    "        auc_score = roc_auc_score(y_true[:, i], [score[i] for score in y_scores])\n",
    "        auc_scores.append(auc_score)\n",
    "        plt.plot(fpr, tpr, label=f'{class_name} (AUC = {auc_score:.3f})')\n",
    "    \n",
    "    plt.plot([0, 1], [0, 1], 'k--', label='Losowa klasyfikacja')\n",
    "    plt.xlabel('False Positive Rate')\n",
    "    plt.ylabel('True Positive Rate')\n",
    "    plt.title('Krzywa ROC dla klasyfikacji wieloklasowej')\n",
    "    plt.legend(loc='lower right')\n",
    "    plt.grid()\n",
    "    plt.show()\n",
    "\n",
    "    # Wyświetlenie AUC dla każdej klasy\n",
    "    print(f\"AUC dla każdej klasy:\")\n",
    "    for class_name, auc in zip(['setosa', 'versicolor', 'virginica'], auc_scores):\n",
    "        print(f'{class_name}: {auc:.3f}')\n",
    "\n",
    "plot_roc_auc_multiclass(gnbc, testSet)\n"
   ]
  },
  {
   "cell_type": "markdown",
   "metadata": {},
   "source": [
    "### k-Fold Cross Validation dla Iris Dataset\n",
    "\n",
    "k-Fold Cross Validation pozwala na ocenę wydajności modelu poprzez podzielenie danych na k równych części (foldów). Model jest trenowany na k-1 częściach i testowany na pozostałej części, a wyniki są uśredniane.\n"
   ]
  },
  {
   "cell_type": "markdown",
   "metadata": {},
   "source": [
    "W naszym przypadku takie samo podejście jest przedstawione w benchmark.py"
   ]
  },
  {
   "cell_type": "code",
   "execution_count": 21,
   "metadata": {},
   "outputs": [
    {
     "name": "stdout",
     "output_type": "stream",
     "text": [
      "Średnia dokładność po 5-Fold Cross Validation: 0.787\n"
     ]
    },
    {
     "name": "stderr",
     "output_type": "stream",
     "text": [
      "c:\\Users\\X\\Documents\\College\\CS\\sem3\\Statistic_and_probability\\Naive_Bayes_Project\\src\\naive_bayes\\GaussianNaiveBayesClassifier.py:177: FutureWarning: Series.__getitem__ treating keys as positions is deprecated. In a future version, integer keys will always be treated as labels (consistent with DataFrame behavior). To access a value by position, use `ser.iloc[pos]`\n",
      "  if className == test[len(test)-1]:\n"
     ]
    },
    {
     "data": {
      "text/plain": [
       "[0.8333333333333334,\n",
       " 0.7333333333333333,\n",
       " 0.7666666666666667,\n",
       " 0.8333333333333334,\n",
       " 0.7666666666666667]"
      ]
     },
     "execution_count": 21,
     "metadata": {},
     "output_type": "execute_result"
    }
   ],
   "source": [
    "from sklearn.model_selection import KFold\n",
    "import numpy as np\n",
    "\n",
    "def k_fold_cross_validation_gnbc(gnbc, irisDataFrame, k=5):\n",
    "    kf = KFold(n_splits=k, shuffle=True, random_state=42)\n",
    "    accuracies = []\n",
    "\n",
    "    for train_index, test_index in kf.split(irisDataFrame):\n",
    "        trainSet = irisDataFrame.iloc[train_index]\n",
    "        testSet = irisDataFrame.iloc[test_index]\n",
    "        gnbc.fit(trainSet)\n",
    "        accuracy = gnbc.test_accuracy(testSet)\n",
    "        accuracies.append(accuracy)\n",
    "\n",
    "    avg_accuracy = np.mean(accuracies)\n",
    "    print(f\"Średnia dokładność po {k}-Fold Cross Validation: {avg_accuracy:.3f}\")\n",
    "    return accuracies\n",
    "\n",
    "# Wywołanie funkcji\n",
    "k_fold_cross_validation_gnbc(gnbc, irisDataFrame, k=5)\n"
   ]
  },
  {
   "cell_type": "code",
   "execution_count": null,
   "metadata": {},
   "outputs": [],
   "source": []
  }
 ],
 "metadata": {
  "colab": {
   "provenance": []
  },
  "kernelspec": {
   "display_name": "env",
   "language": "python",
   "name": "python3"
  },
  "language_info": {
   "codemirror_mode": {
    "name": "ipython",
    "version": 3
   },
   "file_extension": ".py",
   "mimetype": "text/x-python",
   "name": "python",
   "nbconvert_exporter": "python",
   "pygments_lexer": "ipython3",
   "version": "3.12.8"
  }
 },
 "nbformat": 4,
 "nbformat_minor": 4
}
