{
 "cells": [
  {
   "cell_type": "markdown",
   "metadata": {},
   "source": [
    "## Potrzebne import-y"
   ]
  },
  {
   "cell_type": "code",
   "execution_count": 291,
   "metadata": {},
   "outputs": [],
   "source": [
    "from sklearn.model_selection import train_test_split\n",
    "from GaussianNaiveBayesClassifier import GaussianNaiveBayesClassifier\n",
    "from MultinomialNaiveBayesClassifier import MultinomialNaiveBayesClassifier\n",
    "import pandas as pd\n",
    "from sklearn.metrics import confusion_matrix, ConfusionMatrixDisplay"
   ]
  },
  {
   "cell_type": "markdown",
   "metadata": {},
   "source": [
    "# Multinomial Naive Bayes Classifier (MNBC)"
   ]
  },
  {
   "cell_type": "markdown",
   "metadata": {},
   "source": [
    "## Definicja danych"
   ]
  },
  {
   "cell_type": "markdown",
   "metadata": {},
   "source": [
    "Zaimportowaliśmy wszystkie 3 spreparowane przez nas zbiory danych Mushroom - będziemy sprawdzać, który z nich pomoże nam wytrenować najbardziej dokładny model."
   ]
  },
  {
   "cell_type": "code",
   "execution_count": 296,
   "metadata": {},
   "outputs": [],
   "source": [
    "mushroom_data_path = \"../../data_output/dfm.csv\"\n",
    "mushroom_data_pruned_path = \"../../data_output/dfm_pruned.csv\"\n",
    "mushroom_data_vpruned_path = \"../../data_output/dfm_very_pruned.csv\"\n",
    "\n",
    "\n",
    "mdf = pd.read_csv(mushroom_data_path)\n",
    "pmdf = pd.read_csv(mushroom_data_pruned_path)\n",
    "vpmdf = pd.read_csv(mushroom_data_vpruned_path)\n",
    "\n",
    "\n",
    "train_set_m, test_set_m = train_test_split(mdf,test_size=0.95,random_state=15)\n",
    "train_set_pm, test_set_pm = train_test_split(pmdf,test_size=0.95,random_state=15)\n",
    "train_set_vpm, test_set_vpm = train_test_split(vpmdf,test_size=0.95,random_state=15)"
   ]
  },
  {
   "cell_type": "markdown",
   "metadata": {
    "id": "ReQNq3h3yE3C"
   },
   "source": [
    "## Zasada działania MNBC\n",
    "**Multinomial Naive Bayes Classifier (MNBC)** (po polsku Wielomianowy Naiwny Klasyfikator Bayes-owski) to probabilistyczny model uczenia maszynowego, który znajduje zastosowanie głównie w zadaniach klasyfikacyjnych na danych dyskretnych, takich jak klasyfikacja tekstu (np. detekcja spamu). MNBC zakłada, że cechy (atrybuty) mają rozkład multinomialny i są warunkowo niezależne względem etykiety klasy.\n",
    "\n",
    "#### Kroki trenowania i zastosowanie MNBC:\n",
    "1. **Przetwarzanie danych**: \n",
    "   - Zliczanie wystąpień cech (np. słów w dokumentach tekstowych) dla każdej klasy.\n",
    "   - Stosowanie parametru wygładzania ($ \\alpha $) w celu uwzględnienia niewidzianych kombinacji cech i klas.\n",
    "\n",
    "2. **Uczenie (Dopasowanie)**:\n",
    "   - Obliczanie prawdopodobieństw klas ($ P(C) $) jako proporcji próbek należących do każdej klasy.\n",
    "   - Obliczanie prawdopodobieństwa warunkowego cechy $ X_i $ dla klasy $ C $ według wzoru:\n",
    "     $\n",
    "     P(X_i | C) = \\frac{\\text{Count}(X_i, C) + \\alpha}{\\text{Total Count of Traits in } C + \\alpha \\cdot \\text{Number of Traits}}\n",
    "     $\n",
    "\n",
    "3. **Predykcja**:\n",
    "   - Użycie twierdzenia Bayesa do obliczenia prawdopodobieństw a posteriori dla każdej klasy:\n",
    "     $\n",
    "     P(C | X) \\propto P(C) \\cdot \\prod_{i} P(X_i | C)\n",
    "     $\n",
    "   - Przypisanie klasy $ C $, która ma najwyższe prawdopodobieństwo a posteriori.\n",
    "\n",
    "#### Implementacja w Pythonie:\n",
    "Podana klasa **MultinomialNaiveBayesClassifier** implementuje tę logikę:\n",
    "- Metoda `fit` przetwarza dane kategoryczne, przechowując słowniki z licznością cech, licznością klas i prawdopodobieństwami warunkowymi, następnie stosowane jest wygładzanie addytywne ($ \\alpha $), aby zapewnić odporność predykcji nawet dla niewidzianych kombinacji cech i klas.\n",
    "- Metoda `predict` oblicza prawdopodobieństwa a posteriori (przeliczone na skalę logarytminczą) dla wszystkich klas i wybiera najbardziej prawdopodobną.\n",
    "- Metoda `predict_proba` oblicza prawdopodobieństwa a posteriori (--||--) dla wszystkich klas i zwraca słownik `klasa : wartość` \n"
   ]
  },
  {
   "cell_type": "markdown",
   "metadata": {},
   "source": [
    "## Trenowanie modelu na zbiorach"
   ]
  },
  {
   "cell_type": "code",
   "execution_count": 300,
   "metadata": {
    "id": "DeX82hGkx-Vi"
   },
   "outputs": [
    {
     "name": "stdout",
     "output_type": "stream",
     "text": [
      "0.9113300492610837\n",
      "0.9532019704433498\n",
      "0.9458128078817734\n"
     ]
    }
   ],
   "source": [
    "mnbc_m = MultinomialNaiveBayesClassifier()\n",
    "mnbc_vm = MultinomialNaiveBayesClassifier()\n",
    "mnbc_vpm = MultinomialNaiveBayesClassifier()\n",
    "\n",
    "mnbc_m.fit(train_set_m)\n",
    "print(mnbc_m.test_accuracy(train_set_m))\n",
    "\n",
    "mnbc_vm.fit(train_set_pm)\n",
    "print(mnbc_vm.test_accuracy(train_set_pm))\n",
    "\n",
    "mnbc_vpm.fit(train_set_vpm)\n",
    "print(mnbc_vpm.test_accuracy(train_set_vpm))"
   ]
  },
  {
   "cell_type": "markdown",
   "metadata": {
    "id": "jfHkrwNRz0Uo"
   },
   "source": [
    "## Weryfikacja poprawności modelu"
   ]
  },
  {
   "cell_type": "markdown",
   "metadata": {
    "id": "rQBmZzNM2c8z"
   },
   "source": [
    "### Sprawdzenie dokładności modelu\n",
    "\n",
    "Dokładność modelu (accuracy) jest jednym z podstawowych wskaźników skuteczności klasyfikatora. Obliczana jest jako stosunek liczby poprawnie sklasyfikowanych przypadków do całkowitej liczby przypadków w zestawie testowym. \n",
    "\n",
    "W poniższym przykładzie używamy zestawów testowych, które zostały wyodrębnione z pełnych zbiorów danych w trakcie ich podziałów na dane treningowe i testowe.\n"
   ]
  },
  {
   "cell_type": "code",
   "execution_count": 304,
   "metadata": {
    "id": "5Y5UIA7s2i_Y"
   },
   "outputs": [
    {
     "name": "stdout",
     "output_type": "stream",
     "text": [
      "Dokładność modelu bazowego na zbiorze testowym: 90.72%\n"
     ]
    },
    {
     "ename": "NameError",
     "evalue": "name 'mnbc_pm' is not defined",
     "output_type": "error",
     "traceback": [
      "\u001b[0;31m---------------------------------------------------------------------------\u001b[0m",
      "\u001b[0;31mNameError\u001b[0m                                 Traceback (most recent call last)",
      "Cell \u001b[0;32mIn[304], line 6\u001b[0m\n\u001b[1;32m      3\u001b[0m accuracy \u001b[38;5;241m=\u001b[39m mnbc_m\u001b[38;5;241m.\u001b[39mtest_accuracy(test_set_m)\n\u001b[1;32m      4\u001b[0m \u001b[38;5;28mprint\u001b[39m(\u001b[38;5;124mf\u001b[39m\u001b[38;5;124m\"\u001b[39m\u001b[38;5;124mDokładność modelu bazowego na zbiorze testowym: \u001b[39m\u001b[38;5;132;01m{\u001b[39;00maccuracy\u001b[38;5;250m \u001b[39m\u001b[38;5;241m*\u001b[39m\u001b[38;5;250m \u001b[39m\u001b[38;5;241m100\u001b[39m\u001b[38;5;132;01m:\u001b[39;00m\u001b[38;5;124m.2f\u001b[39m\u001b[38;5;132;01m}\u001b[39;00m\u001b[38;5;124m%\u001b[39m\u001b[38;5;124m\"\u001b[39m)\n\u001b[0;32m----> 6\u001b[0m accuracy \u001b[38;5;241m=\u001b[39m mnbc_pm\u001b[38;5;241m.\u001b[39mtest_accuracy(test_set_pm)\n\u001b[1;32m      7\u001b[0m \u001b[38;5;28mprint\u001b[39m(\u001b[38;5;124mf\u001b[39m\u001b[38;5;124m\"\u001b[39m\u001b[38;5;124mDokładność modelu pruned na zbiorze testowym: \u001b[39m\u001b[38;5;132;01m{\u001b[39;00maccuracy\u001b[38;5;250m \u001b[39m\u001b[38;5;241m*\u001b[39m\u001b[38;5;250m \u001b[39m\u001b[38;5;241m100\u001b[39m\u001b[38;5;132;01m:\u001b[39;00m\u001b[38;5;124m.2f\u001b[39m\u001b[38;5;132;01m}\u001b[39;00m\u001b[38;5;124m%\u001b[39m\u001b[38;5;124m\"\u001b[39m)\n\u001b[1;32m      9\u001b[0m accuracy \u001b[38;5;241m=\u001b[39m mnbc_vpm\u001b[38;5;241m.\u001b[39mtest_accuracy(test_set_vpm)\n",
      "\u001b[0;31mNameError\u001b[0m: name 'mnbc_pm' is not defined"
     ]
    }
   ],
   "source": [
    "# Sprawdzenie dokładności modelów w %\n",
    "\n",
    "accuracy = mnbc_m.test_accuracy(test_set_m)\n",
    "print(f\"Dokładność modelu bazowego na zbiorze testowym: {accuracy * 100:.2f}%\")\n",
    "\n",
    "accuracy = mnbc_pm.test_accuracy(test_set_pm)\n",
    "print(f\"Dokładność modelu pruned na zbiorze testowym: {accuracy * 100:.2f}%\")\n",
    "\n",
    "accuracy = mnbc_vpm.test_accuracy(test_set_vpm)\n",
    "print(f\"Dokładność modelu very_pruned na zbiorze testowym: {accuracy * 100:.2f}%\")"
   ]
  },
  {
   "cell_type": "markdown",
   "metadata": {
    "id": "haBiz9da2W7D"
   },
   "source": [
    "### Sprawdzenie pod kątem overfittingu\n",
    "\n",
    "Model może osiągać wysoką skuteczność na danych treningowych, ale być nieskuteczny na danych testowych, co wskazuje na overfitting. Aby to sprawdzić, porównujemy dokładność na danych treningowych i testowych.\n",
    "\n",
    "Jeżeli dokładności na zbiorze treningowym i testowym są zbliżone, oznacza to, że nie wystąpiło nadmierne dopasowanie. Jeśli jednak wartość zbioru treningowego jest dużo większa niż testowego, można podejrzewać overfitting."
   ]
  },
  {
   "cell_type": "code",
   "execution_count": null,
   "metadata": {
    "id": "ULQnzyTp2Ut8"
   },
   "outputs": [],
   "source": [
    "# Porównanie dokładności na zbiorze treningowym i testowym dla wykrycia nadmiernego dopasowania\n",
    "train_accuracy = mnbc_m.test_accuracy(train_set_m)\n",
    "test_accuracy = mnbc_m.test_accuracy(test_set_m)\n",
    "\n",
    "print(f\"Dokładność modelu na zbiorze treningowym: {train_accuracy * 100:.2f}%\")\n",
    "print(f\"Dokładność modelu na zbiorze testowym: {test_accuracy * 100:.2f}%\")\n",
    "\n",
    "train_accuracy = mnbc_pm.test_accuracy(train_set_pm)\n",
    "test_accuracy = mnbc_pm.test_accuracy(test_set_pm)\n",
    "\n",
    "print(f\"Dokładność modelu na zbiorze treningowym: {train_accuracy * 100:.2f}%\")\n",
    "print(f\"Dokładność modelu na zbiorze testowym: {test_accuracy * 100:.2f}%\")\n",
    "\n",
    "\n",
    "train_accuracy = mnbc_vpm.test_accuracy(train_set_vpm)\n",
    "test_accuracy = mnbc_vpm.test_accuracy(test_set_vpm)\n",
    "\n",
    "print(f\"Dokładność modelu na zbiorze treningowym: {train_accuracy * 100:.2f}%\")\n",
    "print(f\"Dokładność modelu na zbiorze testowym: {test_accuracy * 100:.2f}%\")"
   ]
  },
  {
   "cell_type": "markdown",
   "metadata": {},
   "source": [
    "Powyższe analizy doprowadzają nas do wniosku, że z rozpoznawaniem danych najlepiej radzi sobie model wytrenowany na danych, w których usunęliśmy najsilniej skorelowane ze sobą dane. Dzieje się tak prawdopodobnie ze względu na założenie przyjęte w metodzie Naive Bayes, które zakłada, że wszystkie cechy są od siebie niezależne. Usunięcie silnie skorelowanych zmiennych zmniejsza ryzyko naruszenia tego założenia, co poprawia dokładność klasyfikacji modelu."
   ]
  },
  {
   "cell_type": "code",
   "execution_count": 307,
   "metadata": {},
   "outputs": [
    {
     "ename": "NameError",
     "evalue": "name 'mnbc_pm' is not defined",
     "output_type": "error",
     "traceback": [
      "\u001b[0;31m---------------------------------------------------------------------------\u001b[0m",
      "\u001b[0;31mNameError\u001b[0m                                 Traceback (most recent call last)",
      "Cell \u001b[0;32mIn[307], line 1\u001b[0m\n\u001b[0;32m----> 1\u001b[0m mnbc \u001b[38;5;241m=\u001b[39m mnbc_pm\n\u001b[1;32m      2\u001b[0m testSet \u001b[38;5;241m=\u001b[39m test_set_pm\n\u001b[1;32m      3\u001b[0m trainSet \u001b[38;5;241m=\u001b[39m train_set_pm\n",
      "\u001b[0;31mNameError\u001b[0m: name 'mnbc_pm' is not defined"
     ]
    }
   ],
   "source": [
    "mnbc = mnbc_pm\n",
    "testSet = test_set_pm\n",
    "trainSet = train_set_pm"
   ]
  },
  {
   "cell_type": "markdown",
   "metadata": {
    "id": "b36zmPgi2jn6"
   },
   "source": [
    "### Macierz konfuzji (Confusion Matrix)\n",
    "\n",
    "Macierz konfuzji przedstawia szczegółowy rozkład przewidywań modelu względem rzeczywistych wartości klas. Daje ona możliwość analizy liczby prawidłowych i błędnych klasyfikacji dla każdej klasy."
   ]
  },
  {
   "cell_type": "code",
   "execution_count": 310,
   "metadata": {
    "id": "2Dod6A-h2olh"
   },
   "outputs": [
    {
     "ename": "ValueError",
     "evalue": "Classification metrics can't handle a mix of continuous and binary targets",
     "output_type": "error",
     "traceback": [
      "\u001b[0;31m---------------------------------------------------------------------------\u001b[0m",
      "\u001b[0;31mValueError\u001b[0m                                Traceback (most recent call last)",
      "Cell \u001b[0;32mIn[310], line 7\u001b[0m\n\u001b[1;32m      4\u001b[0m y_pred \u001b[38;5;241m=\u001b[39m [mnbc\u001b[38;5;241m.\u001b[39mpredict(row[\u001b[38;5;241m1\u001b[39m:])[\u001b[38;5;241m0\u001b[39m] \u001b[38;5;28;01mfor\u001b[39;00m _, row \u001b[38;5;129;01min\u001b[39;00m testSet\u001b[38;5;241m.\u001b[39miterrows()]  \u001b[38;5;66;03m# Przewidywane klasy\u001b[39;00m\n\u001b[1;32m      6\u001b[0m \u001b[38;5;66;03m# Obliczenie macierzy konfuzji\u001b[39;00m\n\u001b[0;32m----> 7\u001b[0m cm \u001b[38;5;241m=\u001b[39m confusion_matrix(y_true, y_pred, labels\u001b[38;5;241m=\u001b[39m\u001b[38;5;28mlist\u001b[39m(mnbc\u001b[38;5;241m.\u001b[39mclasses))\n\u001b[1;32m      9\u001b[0m \u001b[38;5;66;03m# Wizualizacja macierzy konfuzji\u001b[39;00m\n\u001b[1;32m     10\u001b[0m disp \u001b[38;5;241m=\u001b[39m ConfusionMatrixDisplay(confusion_matrix\u001b[38;5;241m=\u001b[39mcm, display_labels\u001b[38;5;241m=\u001b[39m\u001b[38;5;28mlist\u001b[39m(mnbc\u001b[38;5;241m.\u001b[39mclasses))\n",
      "File \u001b[0;32m~/anaconda3/lib/python3.11/site-packages/sklearn/utils/_param_validation.py:211\u001b[0m, in \u001b[0;36mvalidate_params.<locals>.decorator.<locals>.wrapper\u001b[0;34m(*args, **kwargs)\u001b[0m\n\u001b[1;32m    205\u001b[0m \u001b[38;5;28;01mtry\u001b[39;00m:\n\u001b[1;32m    206\u001b[0m     \u001b[38;5;28;01mwith\u001b[39;00m config_context(\n\u001b[1;32m    207\u001b[0m         skip_parameter_validation\u001b[38;5;241m=\u001b[39m(\n\u001b[1;32m    208\u001b[0m             prefer_skip_nested_validation \u001b[38;5;129;01mor\u001b[39;00m global_skip_validation\n\u001b[1;32m    209\u001b[0m         )\n\u001b[1;32m    210\u001b[0m     ):\n\u001b[0;32m--> 211\u001b[0m         \u001b[38;5;28;01mreturn\u001b[39;00m func(\u001b[38;5;241m*\u001b[39margs, \u001b[38;5;241m*\u001b[39m\u001b[38;5;241m*\u001b[39mkwargs)\n\u001b[1;32m    212\u001b[0m \u001b[38;5;28;01mexcept\u001b[39;00m InvalidParameterError \u001b[38;5;28;01mas\u001b[39;00m e:\n\u001b[1;32m    213\u001b[0m     \u001b[38;5;66;03m# When the function is just a wrapper around an estimator, we allow\u001b[39;00m\n\u001b[1;32m    214\u001b[0m     \u001b[38;5;66;03m# the function to delegate validation to the estimator, but we replace\u001b[39;00m\n\u001b[1;32m    215\u001b[0m     \u001b[38;5;66;03m# the name of the estimator by the name of the function in the error\u001b[39;00m\n\u001b[1;32m    216\u001b[0m     \u001b[38;5;66;03m# message to avoid confusion.\u001b[39;00m\n\u001b[1;32m    217\u001b[0m     msg \u001b[38;5;241m=\u001b[39m re\u001b[38;5;241m.\u001b[39msub(\n\u001b[1;32m    218\u001b[0m         \u001b[38;5;124mr\u001b[39m\u001b[38;5;124m\"\u001b[39m\u001b[38;5;124mparameter of \u001b[39m\u001b[38;5;124m\\\u001b[39m\u001b[38;5;124mw+ must be\u001b[39m\u001b[38;5;124m\"\u001b[39m,\n\u001b[1;32m    219\u001b[0m         \u001b[38;5;124mf\u001b[39m\u001b[38;5;124m\"\u001b[39m\u001b[38;5;124mparameter of \u001b[39m\u001b[38;5;132;01m{\u001b[39;00mfunc\u001b[38;5;241m.\u001b[39m\u001b[38;5;18m__qualname__\u001b[39m\u001b[38;5;132;01m}\u001b[39;00m\u001b[38;5;124m must be\u001b[39m\u001b[38;5;124m\"\u001b[39m,\n\u001b[1;32m    220\u001b[0m         \u001b[38;5;28mstr\u001b[39m(e),\n\u001b[1;32m    221\u001b[0m     )\n",
      "File \u001b[0;32m~/anaconda3/lib/python3.11/site-packages/sklearn/metrics/_classification.py:326\u001b[0m, in \u001b[0;36mconfusion_matrix\u001b[0;34m(y_true, y_pred, labels, sample_weight, normalize)\u001b[0m\n\u001b[1;32m    231\u001b[0m \u001b[38;5;129m@validate_params\u001b[39m(\n\u001b[1;32m    232\u001b[0m     {\n\u001b[1;32m    233\u001b[0m         \u001b[38;5;124m\"\u001b[39m\u001b[38;5;124my_true\u001b[39m\u001b[38;5;124m\"\u001b[39m: [\u001b[38;5;124m\"\u001b[39m\u001b[38;5;124marray-like\u001b[39m\u001b[38;5;124m\"\u001b[39m],\n\u001b[0;32m   (...)\u001b[0m\n\u001b[1;32m    242\u001b[0m     y_true, y_pred, \u001b[38;5;241m*\u001b[39m, labels\u001b[38;5;241m=\u001b[39m\u001b[38;5;28;01mNone\u001b[39;00m, sample_weight\u001b[38;5;241m=\u001b[39m\u001b[38;5;28;01mNone\u001b[39;00m, normalize\u001b[38;5;241m=\u001b[39m\u001b[38;5;28;01mNone\u001b[39;00m\n\u001b[1;32m    243\u001b[0m ):\n\u001b[1;32m    244\u001b[0m \u001b[38;5;250m    \u001b[39m\u001b[38;5;124;03m\"\"\"Compute confusion matrix to evaluate the accuracy of a classification.\u001b[39;00m\n\u001b[1;32m    245\u001b[0m \n\u001b[1;32m    246\u001b[0m \u001b[38;5;124;03m    By definition a confusion matrix :math:`C` is such that :math:`C_{i, j}`\u001b[39;00m\n\u001b[0;32m   (...)\u001b[0m\n\u001b[1;32m    324\u001b[0m \u001b[38;5;124;03m    (0, 2, 1, 1)\u001b[39;00m\n\u001b[1;32m    325\u001b[0m \u001b[38;5;124;03m    \"\"\"\u001b[39;00m\n\u001b[0;32m--> 326\u001b[0m     y_type, y_true, y_pred \u001b[38;5;241m=\u001b[39m _check_targets(y_true, y_pred)\n\u001b[1;32m    327\u001b[0m     \u001b[38;5;28;01mif\u001b[39;00m y_type \u001b[38;5;129;01mnot\u001b[39;00m \u001b[38;5;129;01min\u001b[39;00m (\u001b[38;5;124m\"\u001b[39m\u001b[38;5;124mbinary\u001b[39m\u001b[38;5;124m\"\u001b[39m, \u001b[38;5;124m\"\u001b[39m\u001b[38;5;124mmulticlass\u001b[39m\u001b[38;5;124m\"\u001b[39m):\n\u001b[1;32m    328\u001b[0m         \u001b[38;5;28;01mraise\u001b[39;00m \u001b[38;5;167;01mValueError\u001b[39;00m(\u001b[38;5;124m\"\u001b[39m\u001b[38;5;132;01m%s\u001b[39;00m\u001b[38;5;124m is not supported\u001b[39m\u001b[38;5;124m\"\u001b[39m \u001b[38;5;241m%\u001b[39m y_type)\n",
      "File \u001b[0;32m~/anaconda3/lib/python3.11/site-packages/sklearn/metrics/_classification.py:93\u001b[0m, in \u001b[0;36m_check_targets\u001b[0;34m(y_true, y_pred)\u001b[0m\n\u001b[1;32m     90\u001b[0m     y_type \u001b[38;5;241m=\u001b[39m {\u001b[38;5;124m\"\u001b[39m\u001b[38;5;124mmulticlass\u001b[39m\u001b[38;5;124m\"\u001b[39m}\n\u001b[1;32m     92\u001b[0m \u001b[38;5;28;01mif\u001b[39;00m \u001b[38;5;28mlen\u001b[39m(y_type) \u001b[38;5;241m>\u001b[39m \u001b[38;5;241m1\u001b[39m:\n\u001b[0;32m---> 93\u001b[0m     \u001b[38;5;28;01mraise\u001b[39;00m \u001b[38;5;167;01mValueError\u001b[39;00m(\n\u001b[1;32m     94\u001b[0m         \u001b[38;5;124m\"\u001b[39m\u001b[38;5;124mClassification metrics can\u001b[39m\u001b[38;5;124m'\u001b[39m\u001b[38;5;124mt handle a mix of \u001b[39m\u001b[38;5;132;01m{0}\u001b[39;00m\u001b[38;5;124m and \u001b[39m\u001b[38;5;132;01m{1}\u001b[39;00m\u001b[38;5;124m targets\u001b[39m\u001b[38;5;124m\"\u001b[39m\u001b[38;5;241m.\u001b[39mformat(\n\u001b[1;32m     95\u001b[0m             type_true, type_pred\n\u001b[1;32m     96\u001b[0m         )\n\u001b[1;32m     97\u001b[0m     )\n\u001b[1;32m     99\u001b[0m \u001b[38;5;66;03m# We can't have more than one value on y_type => The set is no more needed\u001b[39;00m\n\u001b[1;32m    100\u001b[0m y_type \u001b[38;5;241m=\u001b[39m y_type\u001b[38;5;241m.\u001b[39mpop()\n",
      "\u001b[0;31mValueError\u001b[0m: Classification metrics can't handle a mix of continuous and binary targets"
     ]
    }
   ],
   "source": [
    "from sklearn.metrics import confusion_matrix, ConfusionMatrixDisplay\n",
    "\n",
    "y_true = testSet.iloc[:, 0]  # Rzeczywiste klasy (pierwsza kolumna)\n",
    "y_pred = [mnbc.predict(row[1:])[0] for _, row in testSet.iterrows()]  # Przewidywane klasy\n",
    "\n",
    "# Obliczenie macierzy konfuzji\n",
    "cm = confusion_matrix(y_true, y_pred, labels=list(mnbc.classes))\n",
    "\n",
    "# Wizualizacja macierzy konfuzji\n",
    "disp = ConfusionMatrixDisplay(confusion_matrix=cm, display_labels=list(mnbc.classes))\n",
    "disp.plot(cmap=\"Blues\")\n"
   ]
  },
  {
   "cell_type": "markdown",
   "metadata": {},
   "source": [
    "### Analiza błędów klasyfikacji\n",
    "\n",
    "Analiza błędów klasyfikacji pozwala zrozumieć, które klasy są najczęściej mylone przez model. W przypadku znaczących błędów klasyfikacji można rozważyć modyfikację danych treningowych lub użycie innych cech w modelu.\n"
   ]
  },
  {
   "cell_type": "code",
   "execution_count": 129,
   "metadata": {},
   "outputs": [
    {
     "name": "stdout",
     "output_type": "stream",
     "text": [
      "Błędnie sklasyfikowane przypadki:\n",
      "     class cap-shape cap-surface cap-color odor gill-spacing gill-size  \\\n",
      "4814     p         k           f         n    n            c         n   \n",
      "3868     p         x           f         w    c            w         n   \n",
      "3738     p         x           f         w    c            w         n   \n",
      "3444     p         x           s         w    c            c         n   \n",
      "5215     p         f           y         p    n            c         b   \n",
      "...    ...       ...         ...       ...  ...          ...       ...   \n",
      "3037     p         x           f         g    c            c         n   \n",
      "5617     p         b           s         w    n            c         b   \n",
      "927      p         x           y         n    p            c         n   \n",
      "950      p         x           y         w    p            c         n   \n",
      "3754     p         x           f         w    c            c         n   \n",
      "\n",
      "     gill-color stalk-shape ring-number ring-type spore-print-color  \\\n",
      "4814          w           e           o         e                 w   \n",
      "3868          u           e           o         p                 k   \n",
      "3738          p           e           o         p                 k   \n",
      "3444          u           e           o         p                 n   \n",
      "5215          w           e           t         p                 r   \n",
      "...         ...         ...         ...       ...               ...   \n",
      "3037          p           e           o         p                 n   \n",
      "5617          g           e           t         p                 r   \n",
      "927           w           e           o         p                 k   \n",
      "950           w           e           o         p                 n   \n",
      "3754          u           e           o         p                 n   \n",
      "\n",
      "     population habitat  \n",
      "4814          v       d  \n",
      "3868          v       d  \n",
      "3738          s       d  \n",
      "3444          s       d  \n",
      "5215          v       m  \n",
      "...         ...     ...  \n",
      "3037          s       d  \n",
      "5617          v       g  \n",
      "927           s       u  \n",
      "950           s       u  \n",
      "3754          v       d  \n",
      "\n",
      "[328 rows x 14 columns]\n"
     ]
    }
   ],
   "source": [
    "misclassified = testSet[y_true != y_pred]\n",
    "print(\"Błędnie sklasyfikowane przypadki:\")\n",
    "print(misclassified)\n"
   ]
  },
  {
   "cell_type": "markdown",
   "metadata": {},
   "source": [
    "### Wskaźniki jakości klasyfikacji\n",
    "\n",
    "Dodatkowymi wskaźnikami jakości klasyfikacji są:\n",
    "- **Precision**: dokładność przewidywań dla danej klasy,\n",
    "- **Recall**: zdolność modelu do prawidłowego identyfikowania przypadków danej klasy,\n",
    "- **F1-score**: harmoniczna średnia precision i recall.\n"
   ]
  },
  {
   "cell_type": "code",
   "execution_count": 132,
   "metadata": {},
   "outputs": [
    {
     "name": "stdout",
     "output_type": "stream",
     "text": [
      "Raport jakości klasyfikacji:\n",
      "\n",
      "              precision    recall  f1-score   support\n",
      "\n",
      "           e       0.92      1.00      0.96      3999\n",
      "           p       1.00      0.91      0.95      3719\n",
      "\n",
      "    accuracy                           0.96      7718\n",
      "   macro avg       0.96      0.96      0.96      7718\n",
      "weighted avg       0.96      0.96      0.96      7718\n",
      "\n"
     ]
    }
   ],
   "source": [
    "from sklearn.metrics import classification_report\n",
    "\n",
    "# Raport z wskaźnikami jakości klasyfikacji\n",
    "report = classification_report(y_true, y_pred, target_names=list(mnbc.classes))\n",
    "print(\"Raport jakości klasyfikacji:\\n\")\n",
    "print(report)\n"
   ]
  },
  {
   "cell_type": "markdown",
   "metadata": {},
   "source": [
    "### ROC - AUC\n",
    "\n",
    "ROC (Receiver Operating Characteristic) to wykres przedstawiający zdolność modelu do klasyfikacji na podstawie różnych progów decyzyjnych. AUC (Area Under the Curve) to pole pod krzywą ROC, które pozwala ocenić jakość modelu – im bliżej 1, tym lepszy model."
   ]
  },
  {
   "cell_type": "code",
   "execution_count": 135,
   "metadata": {},
   "outputs": [
    {
     "data": {
      "image/png": "[encoded data removed]",
      "text/plain": [
       "<Figure size 800x600 with 1 Axes>"
      ]
     },
     "metadata": {},
     "output_type": "display_data"
    },
    {
     "name": "stdout",
     "output_type": "stream",
     "text": [
      "ROC-AUC Score: 0.995\n"
     ]
    }
   ],
   "source": [
    "# Generowane\n",
    "from sklearn.metrics import roc_curve, roc_auc_score\n",
    "import matplotlib.pyplot as plt\n",
    "\n",
    "def plot_roc_auc(mnbc, testSet):\n",
    "    y_true = testSet.iloc[:, 0]  # Pierwsza kolumna (klasy prawdziwe)\n",
    "    y_scores = []\n",
    "\n",
    "    for _, row in testSet.iterrows():\n",
    "        proba = mnbc.predict_proba(row[1:])  # Prawdopodobieństwa dla każdej klasy\n",
    "        y_scores.append(proba['e'] if 'e' in proba else 0)  # Przykład: klasyfikacja 'edible' vs 'poisonous'\n",
    "\n",
    "    # Oblicz ROC i AUC\n",
    "    fpr, tpr, _ = roc_curve(y_true.map({'e': 1, 'p': 0}), y_scores)  # Przyjęto 'e' jako pozytywna klasa\n",
    "    auc_score = roc_auc_score(y_true.map({'e': 1, 'p': 0}), y_scores)\n",
    "\n",
    "    # Wykres ROC\n",
    "    plt.figure(figsize=(8, 6))\n",
    "    plt.plot(fpr, tpr, label=f'AUC = {auc_score:.3f}')\n",
    "    plt.plot([0, 1], [0, 1], 'k--', label='Losowa klasyfikacja')\n",
    "    plt.xlabel('False Positive Rate')\n",
    "    plt.ylabel('True Positive Rate')\n",
    "    plt.title('ROC Curve')\n",
    "    plt.legend(loc='lower right')\n",
    "    plt.grid()\n",
    "    plt.show()\n",
    "\n",
    "    print(f\"ROC-AUC Score: {auc_score:.3f}\")\n",
    "\n",
    "# Wywołanie funkcji\n",
    "plot_roc_auc(mnbc, testSet)\n"
   ]
  },
  {
   "cell_type": "markdown",
   "metadata": {},
   "source": [
    "### k-Fold Cross Validation\n",
    "\n",
    "k-Fold Cross Validation pozwala na ocenę wydajności modelu poprzez podzielenie danych na k równych części (foldów). Model jest trenowany na k-1 częściach i testowany na pozostałej części, a wyniki są uśredniane."
   ]
  },
  {
   "cell_type": "code",
   "execution_count": 138,
   "metadata": {},
   "outputs": [
    {
     "name": "stdout",
     "output_type": "stream",
     "text": [
      "Średnia dokładność po 5-Fold Cross Validation: 0.968\n"
     ]
    },
    {
     "data": {
      "text/plain": [
       "[0.9723076923076923,\n",
       " 0.9661538461538461,\n",
       " 0.9692307692307692,\n",
       " 0.9667692307692307,\n",
       " 0.9667487684729064]"
      ]
     },
     "execution_count": 138,
     "metadata": {},
     "output_type": "execute_result"
    }
   ],
   "source": [
    "from sklearn.model_selection import KFold\n",
    "import numpy as np\n",
    "\n",
    "def k_fold_cross_validation(mnbc, mushroomDataFrame, k=5):\n",
    "    kf = KFold(n_splits=k, shuffle=True, random_state=42)\n",
    "    accuracies = []\n",
    "\n",
    "    for train_index, test_index in kf.split(mushroomDataFrame):\n",
    "        trainSet = mushroomDataFrame.iloc[train_index]\n",
    "        testSet = mushroomDataFrame.iloc[test_index]\n",
    "\n",
    "        mnbc.fit(trainSet)  # Trenuj model na danych treningowych\n",
    "        accuracy = mnbc.test_accuracy(testSet)  # Sprawdź dokładność na danych testowych\n",
    "        accuracies.append(accuracy)\n",
    "\n",
    "    avg_accuracy = np.mean(accuracies)\n",
    "    print(f\"Średnia dokładność po {k}-Fold Cross Validation: {avg_accuracy:.3f}\")\n",
    "    return accuracies\n",
    "\n",
    "# Wywołanie funkcji\n",
    "k_fold_cross_validation(mnbc, mushroomDataFrame, k=5)\n"
   ]
  },
  {
   "cell_type": "markdown",
   "metadata": {},
   "source": [
    "# Gaussian Naive Bayes Classifier (GNBC)"
   ]
  },
  {
   "cell_type": "markdown",
   "metadata": {},
   "source": [
    "## Definicja danych"
   ]
  },
  {
   "cell_type": "code",
   "execution_count": 196,
   "metadata": {},
   "outputs": [],
   "source": [
    "dataPath = \"../../data_output/dfi_pruned.csv\"\n",
    "irisDataFrame = pd.read_csv(dataPath)\n",
    "trainSet, testSet = train_test_split(irisDataFrame,test_size=0.3,random_state=15)"
   ]
  },
  {
   "cell_type": "markdown",
   "metadata": {},
   "source": [
    "## Zasada działania GNBC\n",
    "**Gaussian Naive Bayes Classifier (GNBC)** (po polsku Gauss-owski [oparty o rozkład normalny] Naiwny Klasyfikator Bayes-owski) to kolejna odmiana modelu Naive Bayes, wykorzystywana dla danych ciągłych. GNBC zakłada, że cechy mają rozkład normalny (Gaussa) w obrębie każdej klasy. Jest to odpowiednie dla zadań takich jak diagnostyka medyczna, gdzie dane wejściowe mogą reprezentować ciągłe pomiary.\n",
    "\n",
    "#### Zasada działania i użycie GNBC:\n",
    "1. **Przetwarzanie danych**:\n",
    "   - Dla każdej cechy $X_i$ w każdej klasie $C$, szacuje się parametry rozkładu normalnego:\n",
    "     - Średnia $( \\mu )$: Średnia wartości cech w obrębie klasy.\n",
    "     - Wariancja $(\\sigma^2)$: Zmienność wartości cech w obrębie klasy.\n",
    "\n",
    "2. **Uczenie (Dopasowanie)**:\n",
    "   - Obliczanie funkcji gęstości prawdopodobieństwa (PDF) Gaussa dla każdej cechy:\n",
    "     $\n",
    "     P(X_i | C) = \\frac{1}{\\sqrt{2 \\pi \\sigma^2}} \\exp\\left(-\\frac{(X_i - \\mu)^2}{2 \\sigma^2}\\right)\n",
    "     $\n",
    "   - Obliczanie prawdopodobieństw klas $ P(C) $.\n",
    "\n",
    "3. **Predykcja**:\n",
    "   - Użycie twierdzenia Bayesa do obliczenia prawdopodobieństw a posteriori dla każdej klasy:\n",
    "     $\n",
    "     P(C | X) \\propto P(C) \\cdot \\prod_{i} P(X_i | C)\n",
    "     $\n",
    "   - Przypisanie klasy $ C $, która ma najwyższe prawdopodobieństwo a posteriori.\n",
    "\n",
    "#### Implementacja w Pythonie:\n",
    "Klasa **NormalDistribution** implementuje funkcję gęstości prawdopodobieństwa dla GNBC:\n",
    "- Metoda `fit_values` oblicza średnią i wariancję cechy.\n",
    "- Metoda `get_value` oblicza wartość PDF Gaussa w określonym punkcie $x$.\n",
    "- Ta klasa jest użyta jako podstawowy element GNBC, gdzie każda kombinacja cechy i klasy ma własną instancję `NormalDistribution`.\n",
    "\n",
    "\n",
    "Zaimplementowana klasa **GaussianNaiveBayesClassifier** implementuje:\n",
    "- Metoda `fit` przetwarza dane treningowe, obliczając liczności klas i cech oraz parametry rozkładu normalnego dla danych ciągłych, a także tworząc prawdopodobieństwa warunkowe dla danych kategorycznych. Dzięki zastosowaniu wygładzania addytywnego ($ \\alpha $) model zapewnia odporność predykcji na niewidziane wcześniej kombinacje cech i klas.\n",
    "- Metoda `predict` oblicza prawdopodobieństwa a posteriori (przeliczone na skalę logarytminczą) dla wszystkich klas i wybiera najbardziej prawdopodobną.\n",
    "- Metoda `predict_proba` oblicza prawdopodobieństwa a posteriori (--||--) dla wszystkich klas i zwraca słownik `klasa : wartość` \n"
   ]
  },
  {
   "cell_type": "markdown",
   "metadata": {},
   "source": [
    "### Trenowanie modelu"
   ]
  },
  {
   "cell_type": "code",
   "execution_count": 200,
   "metadata": {},
   "outputs": [],
   "source": [
    "gnbc = GaussianNaiveBayesClassifier()\n",
    "gnbc.fit(trainSet)"
   ]
  },
  {
   "cell_type": "markdown",
   "metadata": {},
   "source": [
    "## Weryfikacja poprawności modelu"
   ]
  },
  {
   "cell_type": "markdown",
   "metadata": {},
   "source": [
    "### Sprawdzenie dokładności modelu\n",
    "\n",
    "Dokładność modelu (accuracy) jest jednym z podstawowych wskaźników skuteczności klasyfikatora. Obliczana jest jako stosunek liczby poprawnie sklasyfikowanych przypadków do całkowitej liczby przypadków w zestawie testowym. \n",
    "\n",
    "W poniższym przykładzie używamy zestawu testowego, który został wyodrębniony z pełnego zbioru danych w trakcie jego podziału na dane treningowe i testowe.\n"
   ]
  },
  {
   "cell_type": "code",
   "execution_count": 204,
   "metadata": {},
   "outputs": [
    {
     "name": "stdout",
     "output_type": "stream",
     "text": [
      "Dokładność modelu na zbiorze testowym: 84.44%\n"
     ]
    }
   ],
   "source": [
    "# Sprawdzenie dokładności modelu\n",
    "accuracy = gnbc.test_accuracy(testSet)\n",
    "print(f\"Dokładność modelu na zbiorze testowym: {accuracy * 100:.2f}%\")"
   ]
  },
  {
   "cell_type": "markdown",
   "metadata": {},
   "source": [
    "### Sprawdzenie pod kątem overfittingu\n",
    "\n",
    "Model może osiągać wysoką skuteczność na danych treningowych, ale być nieskuteczny na danych testowych, co wskazuje na overfitting. Aby to sprawdzić, porównujemy dokładność na danych treningowych i testowych.\n",
    "\n",
    "Jeśli dokładność na danych treningowych jest znacznie wyższa niż na danych testowych, może to sugerować problem z nadmiernym dopasowaniem modelu do danych treningowych.\n"
   ]
  },
  {
   "cell_type": "code",
   "execution_count": 207,
   "metadata": {},
   "outputs": [
    {
     "name": "stdout",
     "output_type": "stream",
     "text": [
      "Dokładność modelu na zbiorze treningowym: 78.10%\n",
      "Dokładność modelu na zbiorze testowym: 84.44%\n"
     ]
    }
   ],
   "source": [
    "# Porównanie dokładności na zbiorze treningowym i testowym\n",
    "train_accuracy = gnbc.test_accuracy(trainSet)\n",
    "test_accuracy = gnbc.test_accuracy(testSet)\n",
    "\n",
    "print(f\"Dokładność modelu na zbiorze treningowym: {train_accuracy * 100:.2f}%\")\n",
    "print(f\"Dokładność modelu na zbiorze testowym: {test_accuracy * 100:.2f}%\")\n"
   ]
  },
  {
   "cell_type": "markdown",
   "metadata": {},
   "source": [
    "### Macierz konfuzji (Confusion Matrix)\n",
    "\n",
    "Macierz konfuzji przedstawia szczegółowy rozkład przewidywań modelu względem rzeczywistych wartości klas. Daje ona możliwość analizy liczby prawidłowych i błędnych klasyfikacji dla każdej klasy.\n",
    "\n",
    "Macierz ta składa się z czterech głównych wartości:\n",
    "- **True Positive (TP)**: poprawne klasyfikacje do klasy pozytywnej,\n",
    "- **True Negative (TN)**: poprawne klasyfikacje do klasy negatywnej,\n",
    "- **False Positive (FP)**: błędne przypisanie do klasy pozytywnej,\n",
    "- **False Negative (FN)**: błędne przypisanie do klasy negatywnej.\n",
    "\n",
    "W tej sekcji zostanie przedstawiona wizualizacja oraz analiza wyników modelu.\n"
   ]
  },
  {
   "cell_type": "code",
   "execution_count": 36,
   "metadata": {},
   "outputs": [],
   "source": [
    "y_true = testSet.iloc[:, 4]  # Rzeczywiste klasy (pierwsza kolumna)\n",
    "y_pred = [gnbc.predict(row[:4]) for _, row in testSet.iterrows()]  # Przewidywane klasy"
   ]
  },
  {
   "cell_type": "code",
   "execution_count": 37,
   "metadata": {},
   "outputs": [
    {
     "data": {
      "text/plain": [
       "<sklearn.metrics._plot.confusion_matrix.ConfusionMatrixDisplay at 0x22e008423c0>"
      ]
     },
     "execution_count": 37,
     "metadata": {},
     "output_type": "execute_result"
    },
    {
     "data": {
      "image/png": "[encoded data removed]",
      "text/plain": [
       "<Figure size 640x480 with 2 Axes>"
      ]
     },
     "metadata": {},
     "output_type": "display_data"
    }
   ],
   "source": [
    "from sklearn.metrics import confusion_matrix, ConfusionMatrixDisplay\n",
    "\n",
    "# Pobranie przewidywań modelu na zbiorze testowym\n",
    "y_true = testSet.iloc[:, 4]  # Rzeczywiste klasy (pierwsza kolumna)\n",
    "y_pred = [gnbc.predict(row[:4])[0] for _, row in testSet.iterrows()]  # Przewidywane klasy\n",
    "\n",
    "# Obliczenie macierzy konfuzji\n",
    "cm = confusion_matrix(y_true, y_pred, labels=list(gnbc.classes))\n",
    "\n",
    "# Wizualizacja macierzy konfuzji\n",
    "disp = ConfusionMatrixDisplay(confusion_matrix=cm, display_labels=list(gnbc.classes))\n",
    "disp.plot(cmap=\"Blues\")\n"
   ]
  },
  {
   "cell_type": "markdown",
   "metadata": {},
   "source": [
    "### Analiza błędów klasyfikacji\n",
    "\n",
    "Analiza błędów klasyfikacji pozwala zrozumieć, które klasy są najczęściej mylone przez model. W przypadku znaczących błędów klasyfikacji można rozważyć modyfikację danych treningowych lub użycie innych cech w modelu.\n",
    "\n",
    "W tej sekcji przedstawiono szczegóły dotyczące błędnie zaklasyfikowanych przypadków.\n"
   ]
  },
  {
   "cell_type": "code",
   "execution_count": 45,
   "metadata": {},
   "outputs": [
    {
     "name": "stdout",
     "output_type": "stream",
     "text": [
      "Błędnie sklasyfikowane przypadki:\n",
      "{'setosa': -191.8110661722921, 'virginica': -0.5358878221630392, 'versicolor': 0.3230997585996005}\n",
      "sepal_length          6.2\n",
      "sepal_width           2.8\n",
      "petal_length          4.8\n",
      "petal_width           1.8\n",
      "species         virginica\n",
      "Name: 126, dtype: object\n",
      "{'setosa': -185.69452905949166, 'virginica': -0.5715875383626909, 'versicolor': -0.9780209513593632}\n",
      "sepal_length           6.7\n",
      "sepal_width            3.1\n",
      "petal_length           4.7\n",
      "petal_width            1.5\n",
      "species         versicolor\n",
      "Name: 86, dtype: object\n",
      "{'setosa': -201.53011168331983, 'virginica': -0.2741980742312047, 'versicolor': -0.13137333058869194}\n",
      "sepal_length          6.1\n",
      "sepal_width           3.0\n",
      "petal_length          4.9\n",
      "petal_width           1.8\n",
      "species         virginica\n",
      "Name: 127, dtype: object\n"
     ]
    }
   ],
   "source": [
    "# Identyfikacja błędnie sklasyfikowanych przypadków\n",
    "misclassified = testSet[y_true != y_pred]\n",
    "print(\"Błędnie sklasyfikowane przypadki:\")\n",
    "y_misclassified = [gnbc.predict_proba(row[:4]) for _, row in misclassified.iterrows()]  # Dla sprawdzenia błędów w przewidywaniu\n",
    "for index,y_m in enumerate(y_misclassified):\n",
    "    print(f\"{y_m}\\n{misclassified.iloc[index]}\") # Porównanie wartości, jak blisko były wartość prawdziwa z przewidzianą"
   ]
  },
  {
   "cell_type": "markdown",
   "metadata": {},
   "source": [
    "### Wskaźniki jakości klasyfikacji\n",
    "\n",
    "Dodatkowymi wskaźnikami jakości klasyfikacji są:\n",
    "- **Precision**: dokładność przewidywań dla danej klasy,\n",
    "- **Recall**: zdolność modelu do prawidłowego identyfikowania przypadków danej klasy,\n",
    "- **F1-score**: harmoniczna średnia precision i recall.\n",
    "\n",
    "W tej sekcji obliczane są te wskaźniki dla każdej klasy.\n"
   ]
  },
  {
   "cell_type": "code",
   "execution_count": null,
   "metadata": {},
   "outputs": [
    {
     "name": "stdout",
     "output_type": "stream",
     "text": [
      "Raport jakości klasyfikacji:\n",
      "\n",
      "              precision    recall  f1-score   support\n",
      "\n",
      "      setosa       1.00      1.00      1.00        15\n",
      "   virginica       0.88      0.94      0.91        16\n",
      "  versicolor       0.92      0.86      0.89        14\n",
      "\n",
      "    accuracy                           0.93        45\n",
      "   macro avg       0.94      0.93      0.93        45\n",
      "weighted avg       0.93      0.93      0.93        45\n",
      "\n"
     ]
    }
   ],
   "source": [
    "from sklearn.metrics import classification_report\n",
    "\n",
    "report = classification_report(y_true, y_pred, target_names=list(gnbc.classes))\n",
    "print(\"Raport jakości klasyfikacji:\\n\")\n",
    "print(report)\n"
   ]
  },
  {
   "cell_type": "markdown",
   "metadata": {},
   "source": [
    "### ROC - AUC dla Iris Dataset\n",
    "\n",
    "ROC (Receiver Operating Characteristic) to wykres przedstawiający zdolność modelu do klasyfikacji na podstawie różnych progów decyzyjnych. AUC (Area Under the Curve) to pole pod krzywą ROC, które pozwala ocenić jakość modelu – im bliżej 1, tym lepszy model.\n",
    "\n",
    "W przypadku Iris dataset klasyfikujemy trzy gatunki kwiatów: `setosa`, `versicolor` i `virginica`. Aby zastosować ROC-AUC, zredukujemy problem do klasyfikacji binarnej, np. `versicolor` (1) vs. inne gatunki (0).\n"
   ]
  },
  {
   "cell_type": "code",
   "execution_count": 43,
   "metadata": {},
   "outputs": [
    {
     "data": {
      "image/png": "[encoded data removed]",
      "text/plain": [
       "<Figure size 800x600 with 1 Axes>"
      ]
     },
     "metadata": {},
     "output_type": "display_data"
    },
    {
     "name": "stdout",
     "output_type": "stream",
     "text": [
      "AUC dla każdej klasy:\n",
      "setosa: 0.996\n",
      "versicolor: 0.867\n",
      "virginica: 0.821\n"
     ]
    }
   ],
   "source": [
    "# Generowane\n",
    "from sklearn.metrics import roc_curve, roc_auc_score\n",
    "import matplotlib.pyplot as plt\n",
    "from sklearn.preprocessing import label_binarize\n",
    "\n",
    "# Przygotowanie danych\n",
    "iris_binary = irisDataFrame.copy()\n",
    "iris_binary['binary_species'] = iris_binary['species'].apply(lambda x: 1 if x == 'versicolor' else 0)\n",
    "\n",
    "# Funkcja do rysowania ROC dla wielu klas\n",
    "def plot_roc_auc_multiclass(mnbc, testSet):\n",
    "    # Przekształcenie etykiet na format binarny (one-hot encoding)\n",
    "    y_true = label_binarize(testSet['species'], classes=['setosa', 'versicolor', 'virginica'])\n",
    "    \n",
    "    y_scores = []\n",
    "    for _, row in testSet.iterrows():\n",
    "        proba = mnbc.predict_proba(row[:-2])  # Prawdopodobieństwa dla każdej klasy\n",
    "        y_scores.append([proba.get('setosa', 0), proba.get('versicolor', 0), proba.get('virginica', 0)])\n",
    "\n",
    "    plt.figure(figsize=(8, 6))\n",
    "    auc_scores = []\n",
    "    for i, class_name in enumerate(['setosa', 'versicolor', 'virginica']):\n",
    "        fpr, tpr, _ = roc_curve(y_true[:, i], [score[i] for score in y_scores])\n",
    "        auc_score = roc_auc_score(y_true[:, i], [score[i] for score in y_scores])\n",
    "        auc_scores.append(auc_score)\n",
    "        plt.plot(fpr, tpr, label=f'{class_name} (AUC = {auc_score:.3f})')\n",
    "    \n",
    "    plt.plot([0, 1], [0, 1], 'k--', label='Losowa klasyfikacja')\n",
    "    plt.xlabel('False Positive Rate')\n",
    "    plt.ylabel('True Positive Rate')\n",
    "    plt.title('Krzywa ROC dla klasyfikacji wieloklasowej')\n",
    "    plt.legend(loc='lower right')\n",
    "    plt.grid()\n",
    "    plt.show()\n",
    "\n",
    "    # Wyświetlenie AUC dla każdej klasy\n",
    "    print(f\"AUC dla każdej klasy:\")\n",
    "    for class_name, auc in zip(['setosa', 'versicolor', 'virginica'], auc_scores):\n",
    "        print(f'{class_name}: {auc:.3f}')\n",
    "\n",
    "plot_roc_auc_multiclass(gnbc, testSet)\n"
   ]
  },
  {
   "cell_type": "markdown",
   "metadata": {},
   "source": [
    "### k-Fold Cross Validation dla Iris Dataset\n",
    "\n",
    "k-Fold Cross Validation pozwala na ocenę wydajności modelu poprzez podzielenie danych na k równych części (foldów). Model jest trenowany na k-1 częściach i testowany na pozostałej części, a wyniki są uśredniane.\n"
   ]
  },
  {
   "cell_type": "markdown",
   "metadata": {},
   "source": [
    "W naszym przypadku takie samo podejście jest przedstawione w benchmark.py"
   ]
  },
  {
   "cell_type": "code",
   "execution_count": null,
   "metadata": {},
   "outputs": [
    {
     "name": "stdout",
     "output_type": "stream",
     "text": [
      "Średnia dokładność po 5-Fold Cross Validation: 0.887\n"
     ]
    },
    {
     "data": {
      "text/plain": [
       "[0.9333333333333333, 0.9, 0.8333333333333334, 0.8666666666666667, 0.9]"
      ]
     },
     "execution_count": 42,
     "metadata": {},
     "output_type": "execute_result"
    }
   ],
   "source": [
    "from sklearn.model_selection import KFold\n",
    "import numpy as np\n",
    "\n",
    "def k_fold_cross_validation_gnbc(gnbc, irisDataFrame, k=5):\n",
    "    kf = KFold(n_splits=k, shuffle=True, random_state=42)\n",
    "    accuracies = []\n",
    "\n",
    "    for train_index, test_index in kf.split(irisDataFrame):\n",
    "        trainSet = irisDataFrame.iloc[train_index]\n",
    "        testSet = irisDataFrame.iloc[test_index]\n",
    "        gnbc.fit(trainSet)\n",
    "        accuracy = gnbc.test_accuracy(testSet)\n",
    "        accuracies.append(accuracy)\n",
    "\n",
    "    avg_accuracy = np.mean(accuracies)\n",
    "    print(f\"Średnia dokładność po {k}-Fold Cross Validation: {avg_accuracy:.3f}\")\n",
    "    return accuracies\n",
    "\n",
    "# Wywołanie funkcji\n",
    "k_fold_cross_validation_gnbc(gnbc, irisDataFrame, k=5)\n"
   ]
  }
 ],
 "metadata": {
  "colab": {
   "provenance": []
  },
  "kernelspec": {
   "display_name": "Python 3 (ipykernel)",
   "language": "python",
   "name": "python3"
  },
  "language_info": {
   "codemirror_mode": {
    "name": "ipython",
    "version": 3
   },
   "file_extension": ".py",
   "mimetype": "text/x-python",
   "name": "python",
   "nbconvert_exporter": "python",
   "pygments_lexer": "ipython3",
   "version": "3.11.4"
  }
 },
 "nbformat": 4,
 "nbformat_minor": 4
}
